{
 "cells": [
  {
   "cell_type": "code",
   "execution_count": 150,
   "metadata": {},
   "outputs": [],
   "source": [
    "import pandas as pd\n",
    "import numpy as np"
   ]
  },
  {
   "cell_type": "code",
   "execution_count": 151,
   "metadata": {},
   "outputs": [],
   "source": [
    "file1 = '/Users/tierra/Desktop/2017_data'\n",
    "file2= '/Users/tierra/Desktop/2018_data'\n",
    "\n",
    "data17 = pd.read_csv(file1)\n",
    "data18 = pd.read_csv(file2)"
   ]
  },
  {
   "cell_type": "code",
   "execution_count": 152,
   "metadata": {},
   "outputs": [
    {
     "data": {
      "text/html": [
       "<div>\n",
       "<style scoped>\n",
       "    .dataframe tbody tr th:only-of-type {\n",
       "        vertical-align: middle;\n",
       "    }\n",
       "\n",
       "    .dataframe tbody tr th {\n",
       "        vertical-align: top;\n",
       "    }\n",
       "\n",
       "    .dataframe thead th {\n",
       "        text-align: right;\n",
       "    }\n",
       "</style>\n",
       "<table border=\"1\" class=\"dataframe\">\n",
       "  <thead>\n",
       "    <tr style=\"text-align: right;\">\n",
       "      <th></th>\n",
       "      <th>Country name</th>\n",
       "      <th>Life Ladder</th>\n",
       "      <th>Log GDP per capita</th>\n",
       "      <th>Social support</th>\n",
       "      <th>Healthy life expectancy at birth</th>\n",
       "      <th>Generosity</th>\n",
       "      <th>Freedom to make life choices</th>\n",
       "      <th>Perceptions of corruption</th>\n",
       "      <th>Confidence in national government</th>\n",
       "      <th>Happiness score</th>\n",
       "    </tr>\n",
       "  </thead>\n",
       "  <tbody>\n",
       "    <tr>\n",
       "      <th>0</th>\n",
       "      <td>Finland</td>\n",
       "      <td>7.788252</td>\n",
       "      <td>10.611172</td>\n",
       "      <td>0.963826</td>\n",
       "      <td>71.800003</td>\n",
       "      <td>-0.005696</td>\n",
       "      <td>0.962199</td>\n",
       "      <td>0.192413</td>\n",
       "      <td>0.597539</td>\n",
       "      <td>7.632</td>\n",
       "    </tr>\n",
       "    <tr>\n",
       "      <th>1</th>\n",
       "      <td>Norway</td>\n",
       "      <td>7.578745</td>\n",
       "      <td>11.079062</td>\n",
       "      <td>0.950128</td>\n",
       "      <td>73.099998</td>\n",
       "      <td>0.218105</td>\n",
       "      <td>0.953017</td>\n",
       "      <td>0.249711</td>\n",
       "      <td>0.717160</td>\n",
       "      <td>7.594</td>\n",
       "    </tr>\n",
       "    <tr>\n",
       "      <th>2</th>\n",
       "      <td>Denmark</td>\n",
       "      <td>7.593702</td>\n",
       "      <td>10.751125</td>\n",
       "      <td>0.952100</td>\n",
       "      <td>72.099998</td>\n",
       "      <td>0.152028</td>\n",
       "      <td>0.955416</td>\n",
       "      <td>0.181148</td>\n",
       "      <td>0.572353</td>\n",
       "      <td>7.555</td>\n",
       "    </tr>\n",
       "    <tr>\n",
       "      <th>3</th>\n",
       "      <td>Iceland</td>\n",
       "      <td>7.476214</td>\n",
       "      <td>10.746841</td>\n",
       "      <td>0.966753</td>\n",
       "      <td>73.000000</td>\n",
       "      <td>0.243324</td>\n",
       "      <td>0.938783</td>\n",
       "      <td>0.726845</td>\n",
       "      <td>0.365042</td>\n",
       "      <td>7.495</td>\n",
       "    </tr>\n",
       "    <tr>\n",
       "      <th>4</th>\n",
       "      <td>Switzerland</td>\n",
       "      <td>7.473593</td>\n",
       "      <td>10.957976</td>\n",
       "      <td>0.949661</td>\n",
       "      <td>73.800003</td>\n",
       "      <td>0.175113</td>\n",
       "      <td>0.924997</td>\n",
       "      <td>0.316183</td>\n",
       "      <td>0.819707</td>\n",
       "      <td>7.487</td>\n",
       "    </tr>\n",
       "  </tbody>\n",
       "</table>\n",
       "</div>"
      ],
      "text/plain": [
       "  Country name  Life Ladder  Log GDP per capita  Social support  \\\n",
       "0      Finland     7.788252           10.611172        0.963826   \n",
       "1       Norway     7.578745           11.079062        0.950128   \n",
       "2      Denmark     7.593702           10.751125        0.952100   \n",
       "3      Iceland     7.476214           10.746841        0.966753   \n",
       "4  Switzerland     7.473593           10.957976        0.949661   \n",
       "\n",
       "   Healthy life expectancy at birth  Generosity  Freedom to make life choices  \\\n",
       "0                         71.800003   -0.005696                      0.962199   \n",
       "1                         73.099998    0.218105                      0.953017   \n",
       "2                         72.099998    0.152028                      0.955416   \n",
       "3                         73.000000    0.243324                      0.938783   \n",
       "4                         73.800003    0.175113                      0.924997   \n",
       "\n",
       "   Perceptions of corruption  Confidence in national government  \\\n",
       "0                   0.192413                           0.597539   \n",
       "1                   0.249711                           0.717160   \n",
       "2                   0.181148                           0.572353   \n",
       "3                   0.726845                           0.365042   \n",
       "4                   0.316183                           0.819707   \n",
       "\n",
       "   Happiness score  \n",
       "0            7.632  \n",
       "1            7.594  \n",
       "2            7.555  \n",
       "3            7.495  \n",
       "4            7.487  "
      ]
     },
     "execution_count": 152,
     "metadata": {},
     "output_type": "execute_result"
    }
   ],
   "source": [
    "data17.head()"
   ]
  },
  {
   "cell_type": "code",
   "execution_count": 363,
   "metadata": {},
   "outputs": [
    {
     "data": {
      "text/html": [
       "<div>\n",
       "<style scoped>\n",
       "    .dataframe tbody tr th:only-of-type {\n",
       "        vertical-align: middle;\n",
       "    }\n",
       "\n",
       "    .dataframe tbody tr th {\n",
       "        vertical-align: top;\n",
       "    }\n",
       "\n",
       "    .dataframe thead th {\n",
       "        text-align: right;\n",
       "    }\n",
       "</style>\n",
       "<table border=\"1\" class=\"dataframe\">\n",
       "  <thead>\n",
       "    <tr style=\"text-align: right;\">\n",
       "      <th></th>\n",
       "      <th>Country name</th>\n",
       "      <th>Life Ladder</th>\n",
       "      <th>Log GDP per capita</th>\n",
       "      <th>Social support</th>\n",
       "      <th>Healthy life expectancy at birth</th>\n",
       "      <th>Generosity</th>\n",
       "      <th>Freedom to make life choices</th>\n",
       "      <th>Perceptions of corruption</th>\n",
       "      <th>Confidence in national government</th>\n",
       "      <th>Happiness score</th>\n",
       "    </tr>\n",
       "  </thead>\n",
       "  <tbody>\n",
       "    <tr>\n",
       "      <th>0</th>\n",
       "      <td>Finland</td>\n",
       "      <td>7.858107</td>\n",
       "      <td>10.636060</td>\n",
       "      <td>0.962155</td>\n",
       "      <td>71.900002</td>\n",
       "      <td>-0.131735</td>\n",
       "      <td>0.937807</td>\n",
       "      <td>0.198605</td>\n",
       "      <td>0.555102</td>\n",
       "      <td>7.769</td>\n",
       "    </tr>\n",
       "    <tr>\n",
       "      <th>1</th>\n",
       "      <td>Denmark</td>\n",
       "      <td>7.648786</td>\n",
       "      <td>10.755594</td>\n",
       "      <td>0.958219</td>\n",
       "      <td>72.400002</td>\n",
       "      <td>0.015593</td>\n",
       "      <td>0.935438</td>\n",
       "      <td>0.150607</td>\n",
       "      <td>0.632478</td>\n",
       "      <td>7.600</td>\n",
       "    </tr>\n",
       "    <tr>\n",
       "      <th>2</th>\n",
       "      <td>Norway</td>\n",
       "      <td>7.444262</td>\n",
       "      <td>11.085626</td>\n",
       "      <td>0.965962</td>\n",
       "      <td>73.199997</td>\n",
       "      <td>0.075728</td>\n",
       "      <td>0.960429</td>\n",
       "      <td>0.268201</td>\n",
       "      <td>0.679503</td>\n",
       "      <td>7.554</td>\n",
       "    </tr>\n",
       "    <tr>\n",
       "      <th>3</th>\n",
       "      <td>Netherlands</td>\n",
       "      <td>7.463097</td>\n",
       "      <td>10.809204</td>\n",
       "      <td>0.939443</td>\n",
       "      <td>72.300003</td>\n",
       "      <td>0.155536</td>\n",
       "      <td>0.919985</td>\n",
       "      <td>0.370558</td>\n",
       "      <td>0.656541</td>\n",
       "      <td>7.488</td>\n",
       "    </tr>\n",
       "    <tr>\n",
       "      <th>4</th>\n",
       "      <td>Switzerland</td>\n",
       "      <td>7.508587</td>\n",
       "      <td>10.975945</td>\n",
       "      <td>0.930291</td>\n",
       "      <td>74.099998</td>\n",
       "      <td>0.096369</td>\n",
       "      <td>0.926415</td>\n",
       "      <td>0.301260</td>\n",
       "      <td>0.849979</td>\n",
       "      <td>7.480</td>\n",
       "    </tr>\n",
       "    <tr>\n",
       "      <th>5</th>\n",
       "      <td>Sweden</td>\n",
       "      <td>7.374792</td>\n",
       "      <td>10.766932</td>\n",
       "      <td>0.930680</td>\n",
       "      <td>72.599998</td>\n",
       "      <td>0.069573</td>\n",
       "      <td>0.941725</td>\n",
       "      <td>0.262797</td>\n",
       "      <td>0.494396</td>\n",
       "      <td>7.343</td>\n",
       "    </tr>\n",
       "    <tr>\n",
       "      <th>6</th>\n",
       "      <td>New Zealand</td>\n",
       "      <td>7.370286</td>\n",
       "      <td>10.501477</td>\n",
       "      <td>0.953863</td>\n",
       "      <td>73.199997</td>\n",
       "      <td>0.116750</td>\n",
       "      <td>0.949300</td>\n",
       "      <td>0.206580</td>\n",
       "      <td>0.642461</td>\n",
       "      <td>7.307</td>\n",
       "    </tr>\n",
       "    <tr>\n",
       "      <th>7</th>\n",
       "      <td>Canada</td>\n",
       "      <td>7.175497</td>\n",
       "      <td>10.701248</td>\n",
       "      <td>0.922719</td>\n",
       "      <td>73.599998</td>\n",
       "      <td>0.097966</td>\n",
       "      <td>0.945783</td>\n",
       "      <td>0.371741</td>\n",
       "      <td>0.610467</td>\n",
       "      <td>7.278</td>\n",
       "    </tr>\n",
       "    <tr>\n",
       "      <th>8</th>\n",
       "      <td>Austria</td>\n",
       "      <td>7.396002</td>\n",
       "      <td>10.741893</td>\n",
       "      <td>0.911668</td>\n",
       "      <td>73.000000</td>\n",
       "      <td>0.051552</td>\n",
       "      <td>0.904112</td>\n",
       "      <td>0.523061</td>\n",
       "      <td>0.488679</td>\n",
       "      <td>7.246</td>\n",
       "    </tr>\n",
       "    <tr>\n",
       "      <th>9</th>\n",
       "      <td>Australia</td>\n",
       "      <td>7.176993</td>\n",
       "      <td>10.721021</td>\n",
       "      <td>0.940137</td>\n",
       "      <td>73.599998</td>\n",
       "      <td>0.137795</td>\n",
       "      <td>0.916028</td>\n",
       "      <td>0.404647</td>\n",
       "      <td>0.468837</td>\n",
       "      <td>7.228</td>\n",
       "    </tr>\n",
       "  </tbody>\n",
       "</table>\n",
       "</div>"
      ],
      "text/plain": [
       "  Country name  Life Ladder  Log GDP per capita  Social support  \\\n",
       "0      Finland     7.858107           10.636060        0.962155   \n",
       "1      Denmark     7.648786           10.755594        0.958219   \n",
       "2       Norway     7.444262           11.085626        0.965962   \n",
       "3  Netherlands     7.463097           10.809204        0.939443   \n",
       "4  Switzerland     7.508587           10.975945        0.930291   \n",
       "5       Sweden     7.374792           10.766932        0.930680   \n",
       "6  New Zealand     7.370286           10.501477        0.953863   \n",
       "7       Canada     7.175497           10.701248        0.922719   \n",
       "8      Austria     7.396002           10.741893        0.911668   \n",
       "9    Australia     7.176993           10.721021        0.940137   \n",
       "\n",
       "   Healthy life expectancy at birth  Generosity  Freedom to make life choices  \\\n",
       "0                         71.900002   -0.131735                      0.937807   \n",
       "1                         72.400002    0.015593                      0.935438   \n",
       "2                         73.199997    0.075728                      0.960429   \n",
       "3                         72.300003    0.155536                      0.919985   \n",
       "4                         74.099998    0.096369                      0.926415   \n",
       "5                         72.599998    0.069573                      0.941725   \n",
       "6                         73.199997    0.116750                      0.949300   \n",
       "7                         73.599998    0.097966                      0.945783   \n",
       "8                         73.000000    0.051552                      0.904112   \n",
       "9                         73.599998    0.137795                      0.916028   \n",
       "\n",
       "   Perceptions of corruption  Confidence in national government  \\\n",
       "0                   0.198605                           0.555102   \n",
       "1                   0.150607                           0.632478   \n",
       "2                   0.268201                           0.679503   \n",
       "3                   0.370558                           0.656541   \n",
       "4                   0.301260                           0.849979   \n",
       "5                   0.262797                           0.494396   \n",
       "6                   0.206580                           0.642461   \n",
       "7                   0.371741                           0.610467   \n",
       "8                   0.523061                           0.488679   \n",
       "9                   0.404647                           0.468837   \n",
       "\n",
       "   Happiness score  \n",
       "0            7.769  \n",
       "1            7.600  \n",
       "2            7.554  \n",
       "3            7.488  \n",
       "4            7.480  \n",
       "5            7.343  \n",
       "6            7.307  \n",
       "7            7.278  \n",
       "8            7.246  \n",
       "9            7.228  "
      ]
     },
     "execution_count": 363,
     "metadata": {},
     "output_type": "execute_result"
    }
   ],
   "source": [
    "data18.head(10)"
   ]
  },
  {
   "cell_type": "code",
   "execution_count": 126,
   "metadata": {},
   "outputs": [],
   "source": [
    "from sklearn.linear_model import LinearRegression"
   ]
  },
  {
   "cell_type": "markdown",
   "metadata": {},
   "source": [
    "# 2017"
   ]
  },
  {
   "cell_type": "code",
   "execution_count": 128,
   "metadata": {},
   "outputs": [
    {
     "data": {
      "text/plain": [
       "((126, 8), (126, 1))"
      ]
     },
     "execution_count": 128,
     "metadata": {},
     "output_type": "execute_result"
    }
   ],
   "source": [
    "X = data17[['Life Ladder','Log GDP per capita','Social support','Healthy life expectancy at birth',\n",
    "            'Generosity','Freedom to make life choices','Perceptions of corruption',\n",
    "           'Confidence in national government']]\n",
    "y = data17[['Happiness score']]\n",
    "X.shape, y.shape"
   ]
  },
  {
   "cell_type": "markdown",
   "metadata": {},
   "source": [
    "#### Fit model"
   ]
  },
  {
   "cell_type": "code",
   "execution_count": 129,
   "metadata": {},
   "outputs": [
    {
     "data": {
      "text/plain": [
       "LinearRegression(copy_X=True, fit_intercept=True, n_jobs=None,\n",
       "         normalize=False)"
      ]
     },
     "execution_count": 129,
     "metadata": {},
     "output_type": "execute_result"
    }
   ],
   "source": [
    "model_17 = LinearRegression()\n",
    "model_17.fit(X, y)"
   ]
  },
  {
   "cell_type": "markdown",
   "metadata": {},
   "source": [
    "#### Prediction"
   ]
  },
  {
   "cell_type": "code",
   "execution_count": 131,
   "metadata": {},
   "outputs": [],
   "source": [
    "%matplotlib inline\n",
    "import matplotlib.pyplot as plt"
   ]
  },
  {
   "cell_type": "markdown",
   "metadata": {},
   "source": [
    "#### Plot Residuals"
   ]
  },
  {
   "cell_type": "code",
   "execution_count": 132,
   "metadata": {},
   "outputs": [
    {
     "data": {
      "image/png": "[encoded data removed]",
      "text/plain": [
       "<Figure size 432x288 with 1 Axes>"
      ]
     },
     "metadata": {
      "needs_background": "light"
     },
     "output_type": "display_data"
    }
   ],
   "source": [
    "plt.scatter(ynew, ynew - y)\n",
    "plt.hlines(y=0, xmin=ynew.min(), xmax=ynew.max())\n",
    "plt.show()"
   ]
  },
  {
   "cell_type": "code",
   "execution_count": 133,
   "metadata": {},
   "outputs": [
    {
     "name": "stdout",
     "output_type": "stream",
     "text": [
      "R2 Score: 0.9608349116876328\n"
     ]
    }
   ],
   "source": [
    "score_17 = model_17.score(X, y)\n",
    "print(f\"R2 Score: {score_17}\")"
   ]
  },
  {
   "cell_type": "code",
   "execution_count": 134,
   "metadata": {},
   "outputs": [
    {
     "data": {
      "text/plain": [
       "0.9581569569312316"
      ]
     },
     "execution_count": 134,
     "metadata": {},
     "output_type": "execute_result"
    }
   ],
   "source": [
    "r2adj = 1 - (1-model_17.score(X, y))*(len(y)-1)/(len(y)-X.shape[1]-1)\n",
    "r2adj"
   ]
  },
  {
   "cell_type": "code",
   "execution_count": 135,
   "metadata": {},
   "outputs": [],
   "source": [
    "from sklearn.metrics import mean_squared_error\n"
   ]
  },
  {
   "cell_type": "code",
   "execution_count": 136,
   "metadata": {},
   "outputs": [],
   "source": [
    "MSE_17 = mean_squared_error(y, ynew)"
   ]
  },
  {
   "cell_type": "code",
   "execution_count": 137,
   "metadata": {},
   "outputs": [
    {
     "name": "stdout",
     "output_type": "stream",
     "text": [
      "MSE: 0.04992633577840592, R2: 0.9608349116876328\n"
     ]
    }
   ],
   "source": [
    "print(f\"MSE: {MSE_17}, R2: {score_17}\")"
   ]
  },
  {
   "cell_type": "markdown",
   "metadata": {},
   "source": [
    "# 2018"
   ]
  },
  {
   "cell_type": "code",
   "execution_count": 154,
   "metadata": {},
   "outputs": [
    {
     "data": {
      "text/plain": [
       "((113, 8), (113, 1))"
      ]
     },
     "execution_count": 154,
     "metadata": {},
     "output_type": "execute_result"
    }
   ],
   "source": [
    "X18 = data18[['Life Ladder','Log GDP per capita','Social support','Healthy life expectancy at birth',\n",
    "             'Generosity','Freedom to make life choices','Perceptions of corruption',\n",
    "             'Confidence in national government']]\n",
    "y18 = data18[['Happiness score']]\n",
    "X18.shape, y18.shape"
   ]
  },
  {
   "cell_type": "markdown",
   "metadata": {},
   "source": [
    "### Fitting 2018 model"
   ]
  },
  {
   "cell_type": "code",
   "execution_count": 165,
   "metadata": {},
   "outputs": [
    {
     "data": {
      "text/plain": [
       "LinearRegression(copy_X=True, fit_intercept=True, n_jobs=None,\n",
       "         normalize=False)"
      ]
     },
     "execution_count": 165,
     "metadata": {},
     "output_type": "execute_result"
    }
   ],
   "source": [
    "model_18 = LinearRegression()\n",
    "model_18.fit(X18, y18)"
   ]
  },
  {
   "cell_type": "markdown",
   "metadata": {},
   "source": [
    "#### Prediction"
   ]
  },
  {
   "cell_type": "code",
   "execution_count": 166,
   "metadata": {},
   "outputs": [],
   "source": [
    "ynew18 = model_18.predict(X18)"
   ]
  },
  {
   "cell_type": "markdown",
   "metadata": {},
   "source": [
    "#### Residuals"
   ]
  },
  {
   "cell_type": "code",
   "execution_count": 167,
   "metadata": {},
   "outputs": [
    {
     "data": {
      "image/png": "[encoded data removed]",
      "text/plain": [
       "<Figure size 432x288 with 1 Axes>"
      ]
     },
     "metadata": {
      "needs_background": "light"
     },
     "output_type": "display_data"
    }
   ],
   "source": [
    "plt.scatter(ynew18, ynew18 - y18)\n",
    "plt.hlines(y=0, xmin=ynew18.min(), xmax=ynew18.max())\n",
    "plt.show()"
   ]
  },
  {
   "cell_type": "code",
   "execution_count": 168,
   "metadata": {},
   "outputs": [],
   "source": [
    "from sklearn.metrics import mean_squared_error"
   ]
  },
  {
   "cell_type": "code",
   "execution_count": 169,
   "metadata": {},
   "outputs": [
    {
     "name": "stdout",
     "output_type": "stream",
     "text": [
      "MSE: 0.03238342531668717, R2: 0.974346459513798\n"
     ]
    }
   ],
   "source": [
    "score_18 = model_18.score(X18, y18)\n",
    "MSE_18 = mean_squared_error(y18, ynew18)\n",
    "print(f\"MSE: {MSE_18}, R2: {score_18}\")"
   ]
  },
  {
   "cell_type": "code",
   "execution_count": 108,
   "metadata": {},
   "outputs": [],
   "source": [
    "ynew_18_m17 = model_17.predict(X18)"
   ]
  },
  {
   "cell_type": "code",
   "execution_count": 109,
   "metadata": {},
   "outputs": [
    {
     "data": {
      "image/png": "[encoded data removed]",
      "text/plain": [
       "<Figure size 432x288 with 1 Axes>"
      ]
     },
     "metadata": {
      "needs_background": "light"
     },
     "output_type": "display_data"
    }
   ],
   "source": [
    "plt.scatter(ynew_18_m17, ynew_18_m17 - y18)\n",
    "plt.hlines(y=0, xmin=ynew_18_m17.min(), xmax=ynew_18_m17.max())\n",
    "plt.show()"
   ]
  },
  {
   "cell_type": "code",
   "execution_count": 116,
   "metadata": {},
   "outputs": [
    {
     "name": "stdout",
     "output_type": "stream",
     "text": [
      "MSE: 0.2707989471399493, R2: 0.7854781671135997\n"
     ]
    }
   ],
   "source": [
    "score_18_m17 = model_17.score(X18, y18)\n",
    "MSE_18_m17 = mean_squared_error(y18, ynew_18_m17)\n",
    "print(f\"MSE: {MSE_18_m17}, R2: {score_18_m17}\")"
   ]
  },
  {
   "cell_type": "markdown",
   "metadata": {},
   "source": [
    "#### Applying Model to different years"
   ]
  },
  {
   "cell_type": "markdown",
   "metadata": {},
   "source": [
    "#### Data"
   ]
  },
  {
   "cell_type": "code",
   "execution_count": 160,
   "metadata": {},
   "outputs": [],
   "source": [
    "file12 = '/Users/tierra/Desktop/2012_data'\n",
    "file13 = '/Users/tierra/Desktop/2013_data'\n",
    "file14 = '/Users/tierra/Desktop/2014_data'\n",
    "file15 = '/Users/tierra/Desktop/2015_data'\n",
    "file16 = '/Users/tierra/Desktop/2016_data'\n",
    "\n",
    "\n",
    "data12 = pd.read_csv(file12)\n",
    "data13 = pd.read_csv(file13)\n",
    "data14 = pd.read_csv(file14)\n",
    "data15 = pd.read_csv(file15)\n",
    "data16 = pd.read_csv(file16)\n"
   ]
  },
  {
   "cell_type": "markdown",
   "metadata": {},
   "source": [
    "#### 2012"
   ]
  },
  {
   "cell_type": "code",
   "execution_count": 164,
   "metadata": {},
   "outputs": [
    {
     "data": {
      "text/plain": [
       "(114, 8)"
      ]
     },
     "execution_count": 164,
     "metadata": {},
     "output_type": "execute_result"
    }
   ],
   "source": [
    "X12 = data12[['Life Ladder','Log GDP per capita','Social support','Healthy life expectancy at birth',\n",
    "             'Generosity','Freedom to make life choices','Perceptions of corruption',\n",
    "             'Confidence in national government']]\n",
    "\n",
    "X12.shape"
   ]
  },
  {
   "cell_type": "code",
   "execution_count": 173,
   "metadata": {},
   "outputs": [
    {
     "data": {
      "text/plain": [
       "(114, 1)"
      ]
     },
     "execution_count": 173,
     "metadata": {},
     "output_type": "execute_result"
    }
   ],
   "source": [
    "y12 = model_18.predict(X12)\n",
    "y12.shape"
   ]
  },
  {
   "cell_type": "code",
   "execution_count": 184,
   "metadata": {},
   "outputs": [
    {
     "data": {
      "text/html": [
       "<div>\n",
       "<style scoped>\n",
       "    .dataframe tbody tr th:only-of-type {\n",
       "        vertical-align: middle;\n",
       "    }\n",
       "\n",
       "    .dataframe tbody tr th {\n",
       "        vertical-align: top;\n",
       "    }\n",
       "\n",
       "    .dataframe thead th {\n",
       "        text-align: right;\n",
       "    }\n",
       "</style>\n",
       "<table border=\"1\" class=\"dataframe\">\n",
       "  <thead>\n",
       "    <tr style=\"text-align: right;\">\n",
       "      <th></th>\n",
       "      <th>Country name</th>\n",
       "      <th>Life Ladder</th>\n",
       "      <th>Log GDP per capita</th>\n",
       "      <th>Social support</th>\n",
       "      <th>Healthy life expectancy at birth</th>\n",
       "      <th>Generosity</th>\n",
       "      <th>Freedom to make life choices</th>\n",
       "      <th>Perceptions of corruption</th>\n",
       "      <th>Confidence in national government</th>\n",
       "      <th>HSP_12</th>\n",
       "    </tr>\n",
       "  </thead>\n",
       "  <tbody>\n",
       "    <tr>\n",
       "      <th>0</th>\n",
       "      <td>Switzerland</td>\n",
       "      <td>7.776209</td>\n",
       "      <td>10.935776</td>\n",
       "      <td>0.946864</td>\n",
       "      <td>72.779999</td>\n",
       "      <td>0.133088</td>\n",
       "      <td>0.945428</td>\n",
       "      <td>0.323241</td>\n",
       "      <td>0.769940</td>\n",
       "      <td>7.662486</td>\n",
       "    </tr>\n",
       "    <tr>\n",
       "      <th>1</th>\n",
       "      <td>Norway</td>\n",
       "      <td>7.678277</td>\n",
       "      <td>11.050944</td>\n",
       "      <td>0.947657</td>\n",
       "      <td>72.239998</td>\n",
       "      <td>0.128628</td>\n",
       "      <td>0.946566</td>\n",
       "      <td>0.368043</td>\n",
       "      <td>0.663341</td>\n",
       "      <td>7.595342</td>\n",
       "    </tr>\n",
       "    <tr>\n",
       "      <th>2</th>\n",
       "      <td>Iceland</td>\n",
       "      <td>7.590660</td>\n",
       "      <td>10.594924</td>\n",
       "      <td>0.978965</td>\n",
       "      <td>72.760002</td>\n",
       "      <td>0.239700</td>\n",
       "      <td>0.904655</td>\n",
       "      <td>0.758586</td>\n",
       "      <td>0.257336</td>\n",
       "      <td>7.521204</td>\n",
       "    </tr>\n",
       "    <tr>\n",
       "      <th>3</th>\n",
       "      <td>Denmark</td>\n",
       "      <td>7.519909</td>\n",
       "      <td>10.699571</td>\n",
       "      <td>0.951437</td>\n",
       "      <td>70.839996</td>\n",
       "      <td>0.134192</td>\n",
       "      <td>0.932628</td>\n",
       "      <td>0.187408</td>\n",
       "      <td>0.534253</td>\n",
       "      <td>7.501434</td>\n",
       "    </tr>\n",
       "    <tr>\n",
       "      <th>4</th>\n",
       "      <td>Sweden</td>\n",
       "      <td>7.560148</td>\n",
       "      <td>10.676098</td>\n",
       "      <td>0.929397</td>\n",
       "      <td>72.059998</td>\n",
       "      <td>0.125826</td>\n",
       "      <td>0.944382</td>\n",
       "      <td>0.253543</td>\n",
       "      <td>0.626497</td>\n",
       "      <td>7.491099</td>\n",
       "    </tr>\n",
       "  </tbody>\n",
       "</table>\n",
       "</div>"
      ],
      "text/plain": [
       "  Country name  Life Ladder  Log GDP per capita  Social support  \\\n",
       "0  Switzerland     7.776209           10.935776        0.946864   \n",
       "1       Norway     7.678277           11.050944        0.947657   \n",
       "2      Iceland     7.590660           10.594924        0.978965   \n",
       "3      Denmark     7.519909           10.699571        0.951437   \n",
       "4       Sweden     7.560148           10.676098        0.929397   \n",
       "\n",
       "   Healthy life expectancy at birth  Generosity  Freedom to make life choices  \\\n",
       "0                         72.779999    0.133088                      0.945428   \n",
       "1                         72.239998    0.128628                      0.946566   \n",
       "2                         72.760002    0.239700                      0.904655   \n",
       "3                         70.839996    0.134192                      0.932628   \n",
       "4                         72.059998    0.125826                      0.944382   \n",
       "\n",
       "   Perceptions of corruption  Confidence in national government    HSP_12  \n",
       "0                   0.323241                           0.769940  7.662486  \n",
       "1                   0.368043                           0.663341  7.595342  \n",
       "2                   0.758586                           0.257336  7.521204  \n",
       "3                   0.187408                           0.534253  7.501434  \n",
       "4                   0.253543                           0.626497  7.491099  "
      ]
     },
     "execution_count": 184,
     "metadata": {},
     "output_type": "execute_result"
    }
   ],
   "source": [
    "y12_df = pd.DataFrame(y12)\n",
    "hp_scr_12 = pd.merge(data12, y12_df, left_index=True, right_index=True).\\\n",
    "            rename(columns={0:'HSP_12'}).sort_values('HSP_12',ascending=False).\\\n",
    "            reset_index().drop('index',axis=1)\n",
    "\n",
    "hp_scr_12.head()"
   ]
  },
  {
   "cell_type": "markdown",
   "metadata": {},
   "source": [
    "#### 2013"
   ]
  },
  {
   "cell_type": "code",
   "execution_count": 185,
   "metadata": {},
   "outputs": [
    {
     "data": {
      "text/plain": [
       "(120, 8)"
      ]
     },
     "execution_count": 185,
     "metadata": {},
     "output_type": "execute_result"
    }
   ],
   "source": [
    "X13 = data13[['Life Ladder','Log GDP per capita','Social support','Healthy life expectancy at birth',\n",
    "             'Generosity','Freedom to make life choices','Perceptions of corruption',\n",
    "             'Confidence in national government']]\n",
    "\n",
    "X13.shape"
   ]
  },
  {
   "cell_type": "code",
   "execution_count": 186,
   "metadata": {},
   "outputs": [
    {
     "data": {
      "text/plain": [
       "(120, 1)"
      ]
     },
     "execution_count": 186,
     "metadata": {},
     "output_type": "execute_result"
    }
   ],
   "source": [
    "y13 = model_18.predict(X13)\n",
    "y13.shape"
   ]
  },
  {
   "cell_type": "code",
   "execution_count": 189,
   "metadata": {},
   "outputs": [
    {
     "data": {
      "text/html": [
       "<div>\n",
       "<style scoped>\n",
       "    .dataframe tbody tr th:only-of-type {\n",
       "        vertical-align: middle;\n",
       "    }\n",
       "\n",
       "    .dataframe tbody tr th {\n",
       "        vertical-align: top;\n",
       "    }\n",
       "\n",
       "    .dataframe thead th {\n",
       "        text-align: right;\n",
       "    }\n",
       "</style>\n",
       "<table border=\"1\" class=\"dataframe\">\n",
       "  <thead>\n",
       "    <tr style=\"text-align: right;\">\n",
       "      <th></th>\n",
       "      <th>Country name</th>\n",
       "      <th>Life Ladder</th>\n",
       "      <th>Log GDP per capita</th>\n",
       "      <th>Social support</th>\n",
       "      <th>Healthy life expectancy at birth</th>\n",
       "      <th>Generosity</th>\n",
       "      <th>Freedom to make life choices</th>\n",
       "      <th>Perceptions of corruption</th>\n",
       "      <th>Confidence in national government</th>\n",
       "      <th>HSP_13</th>\n",
       "    </tr>\n",
       "  </thead>\n",
       "  <tbody>\n",
       "    <tr>\n",
       "      <th>0</th>\n",
       "      <td>Denmark</td>\n",
       "      <td>7.588607</td>\n",
       "      <td>10.704692</td>\n",
       "      <td>0.964708</td>\n",
       "      <td>71.059998</td>\n",
       "      <td>0.210208</td>\n",
       "      <td>0.920255</td>\n",
       "      <td>0.170042</td>\n",
       "      <td>0.391405</td>\n",
       "      <td>7.613643</td>\n",
       "    </tr>\n",
       "    <tr>\n",
       "      <th>1</th>\n",
       "      <td>Canada</td>\n",
       "      <td>7.593794</td>\n",
       "      <td>10.653473</td>\n",
       "      <td>0.936239</td>\n",
       "      <td>72.680000</td>\n",
       "      <td>0.308130</td>\n",
       "      <td>0.916014</td>\n",
       "      <td>0.406236</td>\n",
       "      <td>0.505976</td>\n",
       "      <td>7.543675</td>\n",
       "    </tr>\n",
       "    <tr>\n",
       "      <th>2</th>\n",
       "      <td>Iceland</td>\n",
       "      <td>7.501394</td>\n",
       "      <td>10.627644</td>\n",
       "      <td>0.967145</td>\n",
       "      <td>72.839996</td>\n",
       "      <td>0.304013</td>\n",
       "      <td>0.923208</td>\n",
       "      <td>0.712599</td>\n",
       "      <td>0.456566</td>\n",
       "      <td>7.421160</td>\n",
       "    </tr>\n",
       "    <tr>\n",
       "      <th>3</th>\n",
       "      <td>Austria</td>\n",
       "      <td>7.498803</td>\n",
       "      <td>10.698765</td>\n",
       "      <td>0.949809</td>\n",
       "      <td>71.820000</td>\n",
       "      <td>0.166401</td>\n",
       "      <td>0.921734</td>\n",
       "      <td>0.678937</td>\n",
       "      <td>0.417099</td>\n",
       "      <td>7.404721</td>\n",
       "    </tr>\n",
       "    <tr>\n",
       "      <th>4</th>\n",
       "      <td>Finland</td>\n",
       "      <td>7.444636</td>\n",
       "      <td>10.582239</td>\n",
       "      <td>0.940869</td>\n",
       "      <td>71.120003</td>\n",
       "      <td>0.034852</td>\n",
       "      <td>0.918625</td>\n",
       "      <td>0.305770</td>\n",
       "      <td>0.420594</td>\n",
       "      <td>7.403065</td>\n",
       "    </tr>\n",
       "  </tbody>\n",
       "</table>\n",
       "</div>"
      ],
      "text/plain": [
       "  Country name  Life Ladder  Log GDP per capita  Social support  \\\n",
       "0      Denmark     7.588607           10.704692        0.964708   \n",
       "1       Canada     7.593794           10.653473        0.936239   \n",
       "2      Iceland     7.501394           10.627644        0.967145   \n",
       "3      Austria     7.498803           10.698765        0.949809   \n",
       "4      Finland     7.444636           10.582239        0.940869   \n",
       "\n",
       "   Healthy life expectancy at birth  Generosity  Freedom to make life choices  \\\n",
       "0                         71.059998    0.210208                      0.920255   \n",
       "1                         72.680000    0.308130                      0.916014   \n",
       "2                         72.839996    0.304013                      0.923208   \n",
       "3                         71.820000    0.166401                      0.921734   \n",
       "4                         71.120003    0.034852                      0.918625   \n",
       "\n",
       "   Perceptions of corruption  Confidence in national government    HSP_13  \n",
       "0                   0.170042                           0.391405  7.613643  \n",
       "1                   0.406236                           0.505976  7.543675  \n",
       "2                   0.712599                           0.456566  7.421160  \n",
       "3                   0.678937                           0.417099  7.404721  \n",
       "4                   0.305770                           0.420594  7.403065  "
      ]
     },
     "execution_count": 189,
     "metadata": {},
     "output_type": "execute_result"
    }
   ],
   "source": [
    "y13_df = pd.DataFrame(y13)\n",
    "hp_scr_13 = pd.merge(data13, y13_df, left_index=True, right_index=True).\\\n",
    "            rename(columns={0:'HSP_13'}).sort_values('HSP_13',ascending=False).\\\n",
    "            reset_index().drop('index',axis=1)\n",
    "\n",
    "hp_scr_13.head()"
   ]
  },
  {
   "cell_type": "markdown",
   "metadata": {},
   "source": [
    "#### 2014"
   ]
  },
  {
   "cell_type": "code",
   "execution_count": 190,
   "metadata": {},
   "outputs": [
    {
     "data": {
      "text/plain": [
       "(127, 8)"
      ]
     },
     "execution_count": 190,
     "metadata": {},
     "output_type": "execute_result"
    }
   ],
   "source": [
    "X14 = data14[['Life Ladder','Log GDP per capita','Social support','Healthy life expectancy at birth',\n",
    "             'Generosity','Freedom to make life choices','Perceptions of corruption',\n",
    "             'Confidence in national government']]\n",
    "\n",
    "X14.shape"
   ]
  },
  {
   "cell_type": "code",
   "execution_count": 191,
   "metadata": {},
   "outputs": [
    {
     "data": {
      "text/plain": [
       "(127, 1)"
      ]
     },
     "execution_count": 191,
     "metadata": {},
     "output_type": "execute_result"
    }
   ],
   "source": [
    "y14 = model_18.predict(X14)\n",
    "y14.shape"
   ]
  },
  {
   "cell_type": "code",
   "execution_count": 194,
   "metadata": {},
   "outputs": [
    {
     "data": {
      "text/html": [
       "<div>\n",
       "<style scoped>\n",
       "    .dataframe tbody tr th:only-of-type {\n",
       "        vertical-align: middle;\n",
       "    }\n",
       "\n",
       "    .dataframe tbody tr th {\n",
       "        vertical-align: top;\n",
       "    }\n",
       "\n",
       "    .dataframe thead th {\n",
       "        text-align: right;\n",
       "    }\n",
       "</style>\n",
       "<table border=\"1\" class=\"dataframe\">\n",
       "  <thead>\n",
       "    <tr style=\"text-align: right;\">\n",
       "      <th></th>\n",
       "      <th>Country name</th>\n",
       "      <th>Life Ladder</th>\n",
       "      <th>Log GDP per capita</th>\n",
       "      <th>Social support</th>\n",
       "      <th>Healthy life expectancy at birth</th>\n",
       "      <th>Generosity</th>\n",
       "      <th>Freedom to make life choices</th>\n",
       "      <th>Perceptions of corruption</th>\n",
       "      <th>Confidence in national government</th>\n",
       "      <th>HSP_14</th>\n",
       "    </tr>\n",
       "  </thead>\n",
       "  <tbody>\n",
       "    <tr>\n",
       "      <th>0</th>\n",
       "      <td>Denmark</td>\n",
       "      <td>7.507559</td>\n",
       "      <td>10.715685</td>\n",
       "      <td>0.956344</td>\n",
       "      <td>71.279999</td>\n",
       "      <td>0.113419</td>\n",
       "      <td>0.941572</td>\n",
       "      <td>0.237218</td>\n",
       "      <td>0.457837</td>\n",
       "      <td>7.496502</td>\n",
       "    </tr>\n",
       "    <tr>\n",
       "      <th>1</th>\n",
       "      <td>Switzerland</td>\n",
       "      <td>7.492804</td>\n",
       "      <td>10.954624</td>\n",
       "      <td>0.958796</td>\n",
       "      <td>73.059998</td>\n",
       "      <td>0.054533</td>\n",
       "      <td>0.949401</td>\n",
       "      <td>0.283090</td>\n",
       "      <td>0.751631</td>\n",
       "      <td>7.423640</td>\n",
       "    </tr>\n",
       "    <tr>\n",
       "      <th>2</th>\n",
       "      <td>Norway</td>\n",
       "      <td>7.444471</td>\n",
       "      <td>11.057524</td>\n",
       "      <td>0.941162</td>\n",
       "      <td>72.680000</td>\n",
       "      <td>0.162420</td>\n",
       "      <td>0.956316</td>\n",
       "      <td>0.404826</td>\n",
       "      <td>0.699691</td>\n",
       "      <td>7.380657</td>\n",
       "    </tr>\n",
       "    <tr>\n",
       "      <th>3</th>\n",
       "      <td>Finland</td>\n",
       "      <td>7.384571</td>\n",
       "      <td>10.571767</td>\n",
       "      <td>0.952017</td>\n",
       "      <td>71.360001</td>\n",
       "      <td>-0.005278</td>\n",
       "      <td>0.933044</td>\n",
       "      <td>0.265480</td>\n",
       "      <td>0.468559</td>\n",
       "      <td>7.349609</td>\n",
       "    </tr>\n",
       "    <tr>\n",
       "      <th>4</th>\n",
       "      <td>New Zealand</td>\n",
       "      <td>7.305892</td>\n",
       "      <td>10.447419</td>\n",
       "      <td>0.942381</td>\n",
       "      <td>72.480003</td>\n",
       "      <td>0.343987</td>\n",
       "      <td>0.931882</td>\n",
       "      <td>0.272609</td>\n",
       "      <td>0.629681</td>\n",
       "      <td>7.294685</td>\n",
       "    </tr>\n",
       "  </tbody>\n",
       "</table>\n",
       "</div>"
      ],
      "text/plain": [
       "  Country name  Life Ladder  Log GDP per capita  Social support  \\\n",
       "0      Denmark     7.507559           10.715685        0.956344   \n",
       "1  Switzerland     7.492804           10.954624        0.958796   \n",
       "2       Norway     7.444471           11.057524        0.941162   \n",
       "3      Finland     7.384571           10.571767        0.952017   \n",
       "4  New Zealand     7.305892           10.447419        0.942381   \n",
       "\n",
       "   Healthy life expectancy at birth  Generosity  Freedom to make life choices  \\\n",
       "0                         71.279999    0.113419                      0.941572   \n",
       "1                         73.059998    0.054533                      0.949401   \n",
       "2                         72.680000    0.162420                      0.956316   \n",
       "3                         71.360001   -0.005278                      0.933044   \n",
       "4                         72.480003    0.343987                      0.931882   \n",
       "\n",
       "   Perceptions of corruption  Confidence in national government    HSP_14  \n",
       "0                   0.237218                           0.457837  7.496502  \n",
       "1                   0.283090                           0.751631  7.423640  \n",
       "2                   0.404826                           0.699691  7.380657  \n",
       "3                   0.265480                           0.468559  7.349609  \n",
       "4                   0.272609                           0.629681  7.294685  "
      ]
     },
     "execution_count": 194,
     "metadata": {},
     "output_type": "execute_result"
    }
   ],
   "source": [
    "y14_df = pd.DataFrame(y14)\n",
    "hp_scr_14 = pd.merge(data14, y14_df, left_index=True, right_index=True).\\\n",
    "            rename(columns={0:'HSP_14'}).sort_values('HSP_14',ascending=False).\\\n",
    "            reset_index().drop('index',axis=1)\n",
    "\n",
    "hp_scr_14.head()"
   ]
  },
  {
   "cell_type": "markdown",
   "metadata": {},
   "source": [
    "#### 2015"
   ]
  },
  {
   "cell_type": "code",
   "execution_count": 195,
   "metadata": {},
   "outputs": [
    {
     "data": {
      "text/plain": [
       "(126, 8)"
      ]
     },
     "execution_count": 195,
     "metadata": {},
     "output_type": "execute_result"
    }
   ],
   "source": [
    "X15 = data15[['Life Ladder','Log GDP per capita','Social support','Healthy life expectancy at birth',\n",
    "             'Generosity','Freedom to make life choices','Perceptions of corruption',\n",
    "             'Confidence in national government']]\n",
    "\n",
    "X15.shape"
   ]
  },
  {
   "cell_type": "code",
   "execution_count": 196,
   "metadata": {},
   "outputs": [
    {
     "data": {
      "text/plain": [
       "(126, 1)"
      ]
     },
     "execution_count": 196,
     "metadata": {},
     "output_type": "execute_result"
    }
   ],
   "source": [
    "y15 = model_18.predict(X15)\n",
    "y15.shape"
   ]
  },
  {
   "cell_type": "code",
   "execution_count": 213,
   "metadata": {},
   "outputs": [
    {
     "data": {
      "text/html": [
       "<div>\n",
       "<style scoped>\n",
       "    .dataframe tbody tr th:only-of-type {\n",
       "        vertical-align: middle;\n",
       "    }\n",
       "\n",
       "    .dataframe tbody tr th {\n",
       "        vertical-align: top;\n",
       "    }\n",
       "\n",
       "    .dataframe thead th {\n",
       "        text-align: right;\n",
       "    }\n",
       "</style>\n",
       "<table border=\"1\" class=\"dataframe\">\n",
       "  <thead>\n",
       "    <tr style=\"text-align: right;\">\n",
       "      <th></th>\n",
       "      <th>Country name</th>\n",
       "      <th>Life Ladder</th>\n",
       "      <th>Log GDP per capita</th>\n",
       "      <th>Social support</th>\n",
       "      <th>Healthy life expectancy at birth</th>\n",
       "      <th>Generosity</th>\n",
       "      <th>Freedom to make life choices</th>\n",
       "      <th>Perceptions of corruption</th>\n",
       "      <th>Confidence in national government</th>\n",
       "      <th>HSP_15</th>\n",
       "    </tr>\n",
       "  </thead>\n",
       "  <tbody>\n",
       "    <tr>\n",
       "      <th>0</th>\n",
       "      <td>Norway</td>\n",
       "      <td>7.603434</td>\n",
       "      <td>11.066768</td>\n",
       "      <td>0.946834</td>\n",
       "      <td>72.900002</td>\n",
       "      <td>0.238337</td>\n",
       "      <td>0.947621</td>\n",
       "      <td>0.298814</td>\n",
       "      <td>0.586872</td>\n",
       "      <td>7.580990</td>\n",
       "    </tr>\n",
       "    <tr>\n",
       "      <th>1</th>\n",
       "      <td>Denmark</td>\n",
       "      <td>7.514425</td>\n",
       "      <td>10.724560</td>\n",
       "      <td>0.959701</td>\n",
       "      <td>71.500000</td>\n",
       "      <td>0.217953</td>\n",
       "      <td>0.941436</td>\n",
       "      <td>0.191016</td>\n",
       "      <td>0.579889</td>\n",
       "      <td>7.508177</td>\n",
       "    </tr>\n",
       "    <tr>\n",
       "      <th>2</th>\n",
       "      <td>Switzerland</td>\n",
       "      <td>7.572137</td>\n",
       "      <td>10.955430</td>\n",
       "      <td>0.938334</td>\n",
       "      <td>73.199997</td>\n",
       "      <td>0.103407</td>\n",
       "      <td>0.927802</td>\n",
       "      <td>0.209534</td>\n",
       "      <td>0.787730</td>\n",
       "      <td>7.497809</td>\n",
       "    </tr>\n",
       "    <tr>\n",
       "      <th>3</th>\n",
       "      <td>Iceland</td>\n",
       "      <td>7.498071</td>\n",
       "      <td>10.670074</td>\n",
       "      <td>0.980283</td>\n",
       "      <td>73.000000</td>\n",
       "      <td>0.298926</td>\n",
       "      <td>0.940485</td>\n",
       "      <td>0.638662</td>\n",
       "      <td>0.427228</td>\n",
       "      <td>7.450308</td>\n",
       "    </tr>\n",
       "    <tr>\n",
       "      <th>4</th>\n",
       "      <td>New Zealand</td>\n",
       "      <td>7.418121</td>\n",
       "      <td>10.471916</td>\n",
       "      <td>0.987343</td>\n",
       "      <td>72.599998</td>\n",
       "      <td>0.324836</td>\n",
       "      <td>0.941784</td>\n",
       "      <td>0.185889</td>\n",
       "      <td>0.620908</td>\n",
       "      <td>7.435813</td>\n",
       "    </tr>\n",
       "  </tbody>\n",
       "</table>\n",
       "</div>"
      ],
      "text/plain": [
       "  Country name  Life Ladder  Log GDP per capita  Social support  \\\n",
       "0       Norway     7.603434           11.066768        0.946834   \n",
       "1      Denmark     7.514425           10.724560        0.959701   \n",
       "2  Switzerland     7.572137           10.955430        0.938334   \n",
       "3      Iceland     7.498071           10.670074        0.980283   \n",
       "4  New Zealand     7.418121           10.471916        0.987343   \n",
       "\n",
       "   Healthy life expectancy at birth  Generosity  Freedom to make life choices  \\\n",
       "0                         72.900002    0.238337                      0.947621   \n",
       "1                         71.500000    0.217953                      0.941436   \n",
       "2                         73.199997    0.103407                      0.927802   \n",
       "3                         73.000000    0.298926                      0.940485   \n",
       "4                         72.599998    0.324836                      0.941784   \n",
       "\n",
       "   Perceptions of corruption  Confidence in national government    HSP_15  \n",
       "0                   0.298814                           0.586872  7.580990  \n",
       "1                   0.191016                           0.579889  7.508177  \n",
       "2                   0.209534                           0.787730  7.497809  \n",
       "3                   0.638662                           0.427228  7.450308  \n",
       "4                   0.185889                           0.620908  7.435813  "
      ]
     },
     "execution_count": 213,
     "metadata": {},
     "output_type": "execute_result"
    }
   ],
   "source": [
    "y15_df = pd.DataFrame(y15)\n",
    "hp_scr_15 = pd.merge(data15, y15_df, left_index=True, right_index=True).\\\n",
    "            rename(columns={0:'HSP_15'}).sort_values('HSP_15',ascending=False).\\\n",
    "            reset_index().drop('index',axis=1)\n",
    "\n",
    "hp_scr_15.head()"
   ]
  },
  {
   "cell_type": "markdown",
   "metadata": {},
   "source": [
    "#### 2016"
   ]
  },
  {
   "cell_type": "code",
   "execution_count": 198,
   "metadata": {},
   "outputs": [
    {
     "data": {
      "text/plain": [
       "(125, 8)"
      ]
     },
     "execution_count": 198,
     "metadata": {},
     "output_type": "execute_result"
    }
   ],
   "source": [
    "X16 = data16[['Life Ladder','Log GDP per capita','Social support','Healthy life expectancy at birth',\n",
    "             'Generosity','Freedom to make life choices','Perceptions of corruption',\n",
    "             'Confidence in national government']]\n",
    "\n",
    "X16.shape"
   ]
  },
  {
   "cell_type": "code",
   "execution_count": 199,
   "metadata": {},
   "outputs": [
    {
     "data": {
      "text/plain": [
       "(125, 1)"
      ]
     },
     "execution_count": 199,
     "metadata": {},
     "output_type": "execute_result"
    }
   ],
   "source": [
    "y16 = model_18.predict(X16)\n",
    "y16.shape"
   ]
  },
  {
   "cell_type": "code",
   "execution_count": 200,
   "metadata": {},
   "outputs": [
    {
     "data": {
      "text/html": [
       "<div>\n",
       "<style scoped>\n",
       "    .dataframe tbody tr th:only-of-type {\n",
       "        vertical-align: middle;\n",
       "    }\n",
       "\n",
       "    .dataframe tbody tr th {\n",
       "        vertical-align: top;\n",
       "    }\n",
       "\n",
       "    .dataframe thead th {\n",
       "        text-align: right;\n",
       "    }\n",
       "</style>\n",
       "<table border=\"1\" class=\"dataframe\">\n",
       "  <thead>\n",
       "    <tr style=\"text-align: right;\">\n",
       "      <th></th>\n",
       "      <th>Country name</th>\n",
       "      <th>Life Ladder</th>\n",
       "      <th>Log GDP per capita</th>\n",
       "      <th>Social support</th>\n",
       "      <th>Healthy life expectancy at birth</th>\n",
       "      <th>Generosity</th>\n",
       "      <th>Freedom to make life choices</th>\n",
       "      <th>Perceptions of corruption</th>\n",
       "      <th>Confidence in national government</th>\n",
       "      <th>HSP_16</th>\n",
       "    </tr>\n",
       "  </thead>\n",
       "  <tbody>\n",
       "    <tr>\n",
       "      <th>0</th>\n",
       "      <td>Finland</td>\n",
       "      <td>7.659843</td>\n",
       "      <td>10.588078</td>\n",
       "      <td>0.953940</td>\n",
       "      <td>71.699997</td>\n",
       "      <td>-0.030627</td>\n",
       "      <td>0.948372</td>\n",
       "      <td>0.249660</td>\n",
       "      <td>0.485727</td>\n",
       "      <td>7.587829</td>\n",
       "    </tr>\n",
       "    <tr>\n",
       "      <th>1</th>\n",
       "      <td>Denmark</td>\n",
       "      <td>7.557783</td>\n",
       "      <td>10.736206</td>\n",
       "      <td>0.954452</td>\n",
       "      <td>71.800003</td>\n",
       "      <td>0.134532</td>\n",
       "      <td>0.948231</td>\n",
       "      <td>0.209893</td>\n",
       "      <td>0.467661</td>\n",
       "      <td>7.549078</td>\n",
       "    </tr>\n",
       "    <tr>\n",
       "      <th>2</th>\n",
       "      <td>Norway</td>\n",
       "      <td>7.596332</td>\n",
       "      <td>11.069128</td>\n",
       "      <td>0.959743</td>\n",
       "      <td>73.000000</td>\n",
       "      <td>0.114255</td>\n",
       "      <td>0.954352</td>\n",
       "      <td>0.409666</td>\n",
       "      <td>0.657646</td>\n",
       "      <td>7.522866</td>\n",
       "    </tr>\n",
       "    <tr>\n",
       "      <th>3</th>\n",
       "      <td>Netherlands</td>\n",
       "      <td>7.540877</td>\n",
       "      <td>10.763623</td>\n",
       "      <td>0.925944</td>\n",
       "      <td>72.099998</td>\n",
       "      <td>0.233067</td>\n",
       "      <td>0.907310</td>\n",
       "      <td>0.433304</td>\n",
       "      <td>0.572273</td>\n",
       "      <td>7.465857</td>\n",
       "    </tr>\n",
       "    <tr>\n",
       "      <th>4</th>\n",
       "      <td>Iceland</td>\n",
       "      <td>7.510035</td>\n",
       "      <td>10.728341</td>\n",
       "      <td>0.984940</td>\n",
       "      <td>73.000000</td>\n",
       "      <td>0.278245</td>\n",
       "      <td>0.951610</td>\n",
       "      <td>0.719300</td>\n",
       "      <td>0.363518</td>\n",
       "      <td>7.459200</td>\n",
       "    </tr>\n",
       "  </tbody>\n",
       "</table>\n",
       "</div>"
      ],
      "text/plain": [
       "  Country name  Life Ladder  Log GDP per capita  Social support  \\\n",
       "0      Finland     7.659843           10.588078        0.953940   \n",
       "1      Denmark     7.557783           10.736206        0.954452   \n",
       "2       Norway     7.596332           11.069128        0.959743   \n",
       "3  Netherlands     7.540877           10.763623        0.925944   \n",
       "4      Iceland     7.510035           10.728341        0.984940   \n",
       "\n",
       "   Healthy life expectancy at birth  Generosity  Freedom to make life choices  \\\n",
       "0                         71.699997   -0.030627                      0.948372   \n",
       "1                         71.800003    0.134532                      0.948231   \n",
       "2                         73.000000    0.114255                      0.954352   \n",
       "3                         72.099998    0.233067                      0.907310   \n",
       "4                         73.000000    0.278245                      0.951610   \n",
       "\n",
       "   Perceptions of corruption  Confidence in national government    HSP_16  \n",
       "0                   0.249660                           0.485727  7.587829  \n",
       "1                   0.209893                           0.467661  7.549078  \n",
       "2                   0.409666                           0.657646  7.522866  \n",
       "3                   0.433304                           0.572273  7.465857  \n",
       "4                   0.719300                           0.363518  7.459200  "
      ]
     },
     "execution_count": 200,
     "metadata": {},
     "output_type": "execute_result"
    }
   ],
   "source": [
    "y16_df = pd.DataFrame(y16)\n",
    "hp_scr_16 = pd.merge(data16, y16_df, left_index=True, right_index=True).\\\n",
    "            rename(columns={0:'HSP_16'}).sort_values('HSP_16',ascending=False).\\\n",
    "            reset_index().drop('index',axis=1)\n",
    "\n",
    "hp_scr_16.head()"
   ]
  },
  {
   "cell_type": "markdown",
   "metadata": {},
   "source": [
    "### Happiness Score (Predicted)"
   ]
  },
  {
   "cell_type": "code",
   "execution_count": 387,
   "metadata": {},
   "outputs": [],
   "source": [
    "hps_final = pd.merge(hp_scr_16, hp_scr_15, on='Country name', how='left')\n",
    "hps_final = pd.merge(hps_final, hp_scr_14, on='Country name', how='left')\n",
    "hps_final = pd.merge(hps_final, hp_scr_13, on='Country name', how='left')\n",
    "hps_final = pd.merge(hps_final, hp_scr_12, on='Country name', how='left')\n",
    "hps_final = hps_final[['Country name','HSP_12','HSP_13','HSP_14','HSP_15','HSP_16']]\n",
    "\n"
   ]
  },
  {
   "cell_type": "code",
   "execution_count": 388,
   "metadata": {},
   "outputs": [],
   "source": [
    "hp_scr_17 = data17[['Country name','Happiness score']]\n"
   ]
  },
  {
   "cell_type": "code",
   "execution_count": 389,
   "metadata": {},
   "outputs": [],
   "source": [
    "hp_scr_18 = data18[['Country name','Happiness score']]\n"
   ]
  },
  {
   "cell_type": "code",
   "execution_count": 390,
   "metadata": {},
   "outputs": [],
   "source": [
    "HPS_df = pd.merge(hps_final, hp_scr_17, on='Country name', how='left')\n",
    "HPS_df = pd.merge(HPS_df, hp_scr_18, on='Country name', how='left')\n",
    "HPS_df = HPS_df.rename(columns={'Happiness score_x':'HSP_17',\n",
    "                               'Happiness score_y':'HSP_18'})\n",
    "HPS_df = HPS_df[['Country name','HSP_14','HSP_15','HSP_16','HSP_17','HSP_18']].dropna().\\\n",
    "                    reset_index().drop('index',axis=1)\n"
   ]
  },
  {
   "cell_type": "markdown",
   "metadata": {},
   "source": [
    "## MLR 2020"
   ]
  },
  {
   "cell_type": "code",
   "execution_count": 298,
   "metadata": {},
   "outputs": [],
   "source": [
    "X_hs = HPS_df[['HSP_14','HSP_15','HSP_16','HSP_17']]\n",
    "y_hs = HPS_df[['HSP_18']]"
   ]
  },
  {
   "cell_type": "code",
   "execution_count": 299,
   "metadata": {},
   "outputs": [
    {
     "data": {
      "text/plain": [
       "LinearRegression(copy_X=True, fit_intercept=True, n_jobs=None,\n",
       "         normalize=False)"
      ]
     },
     "execution_count": 299,
     "metadata": {},
     "output_type": "execute_result"
    }
   ],
   "source": [
    "model_hsc = LinearRegression()\n",
    "model_hsc.fit(X_hs, y_hs)"
   ]
  },
  {
   "cell_type": "code",
   "execution_count": 300,
   "metadata": {},
   "outputs": [],
   "source": [
    "y_18 = model_hsc.predict(X_hs)"
   ]
  },
  {
   "cell_type": "code",
   "execution_count": 301,
   "metadata": {},
   "outputs": [
    {
     "data": {
      "image/png": "[encoded data removed]",
      "text/plain": [
       "<Figure size 432x288 with 1 Axes>"
      ]
     },
     "metadata": {
      "needs_background": "light"
     },
     "output_type": "display_data"
    }
   ],
   "source": [
    "plt.scatter(y_18, y_18 - y_hs)\n",
    "plt.hlines(y=0, xmin=y_18.min(), xmax=y_18.max())\n",
    "plt.show()"
   ]
  },
  {
   "cell_type": "code",
   "execution_count": 302,
   "metadata": {},
   "outputs": [
    {
     "name": "stdout",
     "output_type": "stream",
     "text": [
      "MSE: 0.012408255075281338, R2: 0.990220146049629\n"
     ]
    }
   ],
   "source": [
    "score_18hs = model_hsc.score(X_hs,y_hs)\n",
    "MSE_18hs = mean_squared_error(y_hs, y_18)\n",
    "print(f\"MSE: {MSE_18hs}, R2: {score_18hs}\")"
   ]
  },
  {
   "cell_type": "markdown",
   "metadata": {},
   "source": [
    "# 2019"
   ]
  },
  {
   "cell_type": "code",
   "execution_count": 303,
   "metadata": {},
   "outputs": [
    {
     "data": {
      "text/plain": [
       "(102, 4)"
      ]
     },
     "execution_count": 303,
     "metadata": {},
     "output_type": "execute_result"
    }
   ],
   "source": [
    "X19 = HPS_df[['HSP_15','HSP_16','HSP_17','HSP_18']]\n",
    "\n",
    "X19.shape"
   ]
  },
  {
   "cell_type": "code",
   "execution_count": 304,
   "metadata": {},
   "outputs": [
    {
     "data": {
      "text/plain": [
       "(102, 1)"
      ]
     },
     "execution_count": 304,
     "metadata": {},
     "output_type": "execute_result"
    }
   ],
   "source": [
    "y19 = model_hsc.predict(X19)\n",
    "y19.shape"
   ]
  },
  {
   "cell_type": "code",
   "execution_count": 305,
   "metadata": {},
   "outputs": [
    {
     "name": "stdout",
     "output_type": "stream",
     "text": [
      " R2: 1.0\n"
     ]
    }
   ],
   "source": [
    "score_19hs = model_hsc.score(X19,y19)\n",
    "\n",
    "print(f\" R2: {score_19hs}\")"
   ]
  },
  {
   "cell_type": "code",
   "execution_count": 318,
   "metadata": {},
   "outputs": [
    {
     "data": {
      "text/html": [
       "<div>\n",
       "<style scoped>\n",
       "    .dataframe tbody tr th:only-of-type {\n",
       "        vertical-align: middle;\n",
       "    }\n",
       "\n",
       "    .dataframe tbody tr th {\n",
       "        vertical-align: top;\n",
       "    }\n",
       "\n",
       "    .dataframe thead th {\n",
       "        text-align: right;\n",
       "    }\n",
       "</style>\n",
       "<table border=\"1\" class=\"dataframe\">\n",
       "  <thead>\n",
       "    <tr style=\"text-align: right;\">\n",
       "      <th></th>\n",
       "      <th>Country</th>\n",
       "      <th>2018</th>\n",
       "      <th>2019</th>\n",
       "    </tr>\n",
       "  </thead>\n",
       "  <tbody>\n",
       "    <tr>\n",
       "      <th>0</th>\n",
       "      <td>Finland</td>\n",
       "      <td>7.769</td>\n",
       "      <td>7.839</td>\n",
       "    </tr>\n",
       "    <tr>\n",
       "      <th>1</th>\n",
       "      <td>Denmark</td>\n",
       "      <td>7.600</td>\n",
       "      <td>7.596</td>\n",
       "    </tr>\n",
       "    <tr>\n",
       "      <th>2</th>\n",
       "      <td>Norway</td>\n",
       "      <td>7.554</td>\n",
       "      <td>7.533</td>\n",
       "    </tr>\n",
       "    <tr>\n",
       "      <th>3</th>\n",
       "      <td>Netherlands</td>\n",
       "      <td>7.488</td>\n",
       "      <td>7.469</td>\n",
       "    </tr>\n",
       "    <tr>\n",
       "      <th>4</th>\n",
       "      <td>Switzerland</td>\n",
       "      <td>7.480</td>\n",
       "      <td>7.506</td>\n",
       "    </tr>\n",
       "  </tbody>\n",
       "</table>\n",
       "</div>"
      ],
      "text/plain": [
       "       Country   2018   2019\n",
       "0      Finland  7.769  7.839\n",
       "1      Denmark  7.600  7.596\n",
       "2       Norway  7.554  7.533\n",
       "3  Netherlands  7.488  7.469\n",
       "4  Switzerland  7.480  7.506"
      ]
     },
     "execution_count": 318,
     "metadata": {},
     "output_type": "execute_result"
    }
   ],
   "source": [
    "y19_df = pd.DataFrame(y19)\n",
    "Happy_bis = pd.merge(HPS_df, y19_df, left_index=True, right_index=True).\\\n",
    "            rename(columns={'Country name':'Country',\n",
    "                            'HSP_14':'2014',\n",
    "                           'HSP_15':'2015',\n",
    "                           'HSP_16':'2016',\n",
    "                           'HSP_17':'2017',\n",
    "                           'HSP_18':'2018',\n",
    "                           0:'2019'}).sort_values('2018',ascending=False).\\\n",
    "            reset_index().drop('index',axis=1)\n",
    "Happy_bis = Happy_bis[['Country','2018','2019']].round(3)\n",
    "Happy_bis.head()"
   ]
  },
  {
   "cell_type": "code",
   "execution_count": 391,
   "metadata": {},
   "outputs": [],
   "source": [
    "Happy = Happy_bis.reset_index().rename(columns={'index':'2018_Place'})\n",
    "Happy['2018_Place'] = Happy['2018_Place'] + 1\n",
    "Happy = Happy.sort_values('2019',ascending=False).reset_index().drop('index',axis=1).\\\n",
    "        reset_index().rename(columns={'index':'2019_Place'})\n",
    "Happy['2019_Place'] = Happy['2019_Place'] + 1\n",
    "Happy['Behavior'] = Happy['2018_Place'] - Happy['2019_Place']"
   ]
  },
  {
   "cell_type": "code",
   "execution_count": 392,
   "metadata": {},
   "outputs": [
    {
     "data": {
      "text/html": [
       "<div>\n",
       "<style scoped>\n",
       "    .dataframe tbody tr th:only-of-type {\n",
       "        vertical-align: middle;\n",
       "    }\n",
       "\n",
       "    .dataframe tbody tr th {\n",
       "        vertical-align: top;\n",
       "    }\n",
       "\n",
       "    .dataframe thead th {\n",
       "        text-align: right;\n",
       "    }\n",
       "</style>\n",
       "<table border=\"1\" class=\"dataframe\">\n",
       "  <thead>\n",
       "    <tr style=\"text-align: right;\">\n",
       "      <th></th>\n",
       "      <th>2019_Place</th>\n",
       "      <th>2018_Place</th>\n",
       "      <th>Country</th>\n",
       "      <th>2018</th>\n",
       "      <th>2019</th>\n",
       "      <th>Behavior</th>\n",
       "    </tr>\n",
       "  </thead>\n",
       "  <tbody>\n",
       "    <tr>\n",
       "      <th>0</th>\n",
       "      <td>1</td>\n",
       "      <td>1</td>\n",
       "      <td>Finland</td>\n",
       "      <td>7.769</td>\n",
       "      <td>7.839</td>\n",
       "      <td>0</td>\n",
       "    </tr>\n",
       "    <tr>\n",
       "      <th>1</th>\n",
       "      <td>2</td>\n",
       "      <td>2</td>\n",
       "      <td>Denmark</td>\n",
       "      <td>7.600</td>\n",
       "      <td>7.596</td>\n",
       "      <td>0</td>\n",
       "    </tr>\n",
       "    <tr>\n",
       "      <th>2</th>\n",
       "      <td>3</td>\n",
       "      <td>3</td>\n",
       "      <td>Norway</td>\n",
       "      <td>7.554</td>\n",
       "      <td>7.533</td>\n",
       "      <td>0</td>\n",
       "    </tr>\n",
       "    <tr>\n",
       "      <th>3</th>\n",
       "      <td>4</td>\n",
       "      <td>5</td>\n",
       "      <td>Switzerland</td>\n",
       "      <td>7.480</td>\n",
       "      <td>7.506</td>\n",
       "      <td>1</td>\n",
       "    </tr>\n",
       "    <tr>\n",
       "      <th>4</th>\n",
       "      <td>5</td>\n",
       "      <td>4</td>\n",
       "      <td>Netherlands</td>\n",
       "      <td>7.488</td>\n",
       "      <td>7.469</td>\n",
       "      <td>-1</td>\n",
       "    </tr>\n",
       "    <tr>\n",
       "      <th>5</th>\n",
       "      <td>6</td>\n",
       "      <td>9</td>\n",
       "      <td>Austria</td>\n",
       "      <td>7.246</td>\n",
       "      <td>7.348</td>\n",
       "      <td>3</td>\n",
       "    </tr>\n",
       "    <tr>\n",
       "      <th>6</th>\n",
       "      <td>7</td>\n",
       "      <td>7</td>\n",
       "      <td>New Zealand</td>\n",
       "      <td>7.307</td>\n",
       "      <td>7.322</td>\n",
       "      <td>0</td>\n",
       "    </tr>\n",
       "    <tr>\n",
       "      <th>7</th>\n",
       "      <td>8</td>\n",
       "      <td>6</td>\n",
       "      <td>Sweden</td>\n",
       "      <td>7.343</td>\n",
       "      <td>7.310</td>\n",
       "      <td>-2</td>\n",
       "    </tr>\n",
       "    <tr>\n",
       "      <th>8</th>\n",
       "      <td>9</td>\n",
       "      <td>8</td>\n",
       "      <td>Canada</td>\n",
       "      <td>7.278</td>\n",
       "      <td>7.286</td>\n",
       "      <td>-1</td>\n",
       "    </tr>\n",
       "    <tr>\n",
       "      <th>9</th>\n",
       "      <td>10</td>\n",
       "      <td>11</td>\n",
       "      <td>Costa Rica</td>\n",
       "      <td>7.167</td>\n",
       "      <td>7.253</td>\n",
       "      <td>1</td>\n",
       "    </tr>\n",
       "    <tr>\n",
       "      <th>10</th>\n",
       "      <td>11</td>\n",
       "      <td>10</td>\n",
       "      <td>Australia</td>\n",
       "      <td>7.228</td>\n",
       "      <td>7.183</td>\n",
       "      <td>-1</td>\n",
       "    </tr>\n",
       "    <tr>\n",
       "      <th>11</th>\n",
       "      <td>12</td>\n",
       "      <td>12</td>\n",
       "      <td>Israel</td>\n",
       "      <td>7.139</td>\n",
       "      <td>7.170</td>\n",
       "      <td>0</td>\n",
       "    </tr>\n",
       "    <tr>\n",
       "      <th>12</th>\n",
       "      <td>13</td>\n",
       "      <td>14</td>\n",
       "      <td>United Kingdom</td>\n",
       "      <td>7.054</td>\n",
       "      <td>7.144</td>\n",
       "      <td>1</td>\n",
       "    </tr>\n",
       "    <tr>\n",
       "      <th>13</th>\n",
       "      <td>14</td>\n",
       "      <td>13</td>\n",
       "      <td>Luxembourg</td>\n",
       "      <td>7.090</td>\n",
       "      <td>7.137</td>\n",
       "      <td>-1</td>\n",
       "    </tr>\n",
       "    <tr>\n",
       "      <th>14</th>\n",
       "      <td>15</td>\n",
       "      <td>16</td>\n",
       "      <td>Germany</td>\n",
       "      <td>6.985</td>\n",
       "      <td>7.031</td>\n",
       "      <td>1</td>\n",
       "    </tr>\n",
       "    <tr>\n",
       "      <th>15</th>\n",
       "      <td>16</td>\n",
       "      <td>19</td>\n",
       "      <td>Czech Republic</td>\n",
       "      <td>6.852</td>\n",
       "      <td>6.978</td>\n",
       "      <td>3</td>\n",
       "    </tr>\n",
       "    <tr>\n",
       "      <th>16</th>\n",
       "      <td>17</td>\n",
       "      <td>15</td>\n",
       "      <td>Ireland</td>\n",
       "      <td>7.021</td>\n",
       "      <td>6.976</td>\n",
       "      <td>-2</td>\n",
       "    </tr>\n",
       "    <tr>\n",
       "      <th>17</th>\n",
       "      <td>18</td>\n",
       "      <td>18</td>\n",
       "      <td>United States</td>\n",
       "      <td>6.892</td>\n",
       "      <td>6.930</td>\n",
       "      <td>0</td>\n",
       "    </tr>\n",
       "    <tr>\n",
       "      <th>18</th>\n",
       "      <td>19</td>\n",
       "      <td>17</td>\n",
       "      <td>Belgium</td>\n",
       "      <td>6.923</td>\n",
       "      <td>6.904</td>\n",
       "      <td>-2</td>\n",
       "    </tr>\n",
       "    <tr>\n",
       "      <th>19</th>\n",
       "      <td>20</td>\n",
       "      <td>21</td>\n",
       "      <td>France</td>\n",
       "      <td>6.592</td>\n",
       "      <td>6.650</td>\n",
       "      <td>1</td>\n",
       "    </tr>\n",
       "    <tr>\n",
       "      <th>20</th>\n",
       "      <td>21</td>\n",
       "      <td>23</td>\n",
       "      <td>Guatemala</td>\n",
       "      <td>6.436</td>\n",
       "      <td>6.578</td>\n",
       "      <td>2</td>\n",
       "    </tr>\n",
       "    <tr>\n",
       "      <th>21</th>\n",
       "      <td>22</td>\n",
       "      <td>20</td>\n",
       "      <td>Mexico</td>\n",
       "      <td>6.595</td>\n",
       "      <td>6.547</td>\n",
       "      <td>-2</td>\n",
       "    </tr>\n",
       "    <tr>\n",
       "      <th>22</th>\n",
       "      <td>23</td>\n",
       "      <td>25</td>\n",
       "      <td>Panama</td>\n",
       "      <td>6.321</td>\n",
       "      <td>6.439</td>\n",
       "      <td>2</td>\n",
       "    </tr>\n",
       "    <tr>\n",
       "      <th>23</th>\n",
       "      <td>24</td>\n",
       "      <td>22</td>\n",
       "      <td>Chile</td>\n",
       "      <td>6.444</td>\n",
       "      <td>6.404</td>\n",
       "      <td>-2</td>\n",
       "    </tr>\n",
       "    <tr>\n",
       "      <th>24</th>\n",
       "      <td>25</td>\n",
       "      <td>28</td>\n",
       "      <td>El Salvador</td>\n",
       "      <td>6.253</td>\n",
       "      <td>6.401</td>\n",
       "      <td>3</td>\n",
       "    </tr>\n",
       "    <tr>\n",
       "      <th>25</th>\n",
       "      <td>26</td>\n",
       "      <td>24</td>\n",
       "      <td>Spain</td>\n",
       "      <td>6.354</td>\n",
       "      <td>6.367</td>\n",
       "      <td>-2</td>\n",
       "    </tr>\n",
       "    <tr>\n",
       "      <th>26</th>\n",
       "      <td>27</td>\n",
       "      <td>29</td>\n",
       "      <td>Italy</td>\n",
       "      <td>6.223</td>\n",
       "      <td>6.364</td>\n",
       "      <td>2</td>\n",
       "    </tr>\n",
       "    <tr>\n",
       "      <th>27</th>\n",
       "      <td>28</td>\n",
       "      <td>27</td>\n",
       "      <td>Uruguay</td>\n",
       "      <td>6.293</td>\n",
       "      <td>6.361</td>\n",
       "      <td>-1</td>\n",
       "    </tr>\n",
       "    <tr>\n",
       "      <th>28</th>\n",
       "      <td>29</td>\n",
       "      <td>31</td>\n",
       "      <td>Lithuania</td>\n",
       "      <td>6.149</td>\n",
       "      <td>6.327</td>\n",
       "      <td>2</td>\n",
       "    </tr>\n",
       "    <tr>\n",
       "      <th>29</th>\n",
       "      <td>30</td>\n",
       "      <td>30</td>\n",
       "      <td>Slovakia</td>\n",
       "      <td>6.198</td>\n",
       "      <td>6.310</td>\n",
       "      <td>0</td>\n",
       "    </tr>\n",
       "    <tr>\n",
       "      <th>...</th>\n",
       "      <td>...</td>\n",
       "      <td>...</td>\n",
       "      <td>...</td>\n",
       "      <td>...</td>\n",
       "      <td>...</td>\n",
       "      <td>...</td>\n",
       "    </tr>\n",
       "    <tr>\n",
       "      <th>72</th>\n",
       "      <td>73</td>\n",
       "      <td>75</td>\n",
       "      <td>Venezuela</td>\n",
       "      <td>4.707</td>\n",
       "      <td>4.980</td>\n",
       "      <td>2</td>\n",
       "    </tr>\n",
       "    <tr>\n",
       "      <th>73</th>\n",
       "      <td>74</td>\n",
       "      <td>74</td>\n",
       "      <td>Albania</td>\n",
       "      <td>4.719</td>\n",
       "      <td>4.875</td>\n",
       "      <td>0</td>\n",
       "    </tr>\n",
       "    <tr>\n",
       "      <th>74</th>\n",
       "      <td>75</td>\n",
       "      <td>78</td>\n",
       "      <td>Burkina Faso</td>\n",
       "      <td>4.587</td>\n",
       "      <td>4.867</td>\n",
       "      <td>3</td>\n",
       "    </tr>\n",
       "    <tr>\n",
       "      <th>75</th>\n",
       "      <td>76</td>\n",
       "      <td>69</td>\n",
       "      <td>Nepal</td>\n",
       "      <td>4.913</td>\n",
       "      <td>4.867</td>\n",
       "      <td>-7</td>\n",
       "    </tr>\n",
       "    <tr>\n",
       "      <th>76</th>\n",
       "      <td>77</td>\n",
       "      <td>72</td>\n",
       "      <td>Gabon</td>\n",
       "      <td>4.799</td>\n",
       "      <td>4.799</td>\n",
       "      <td>-5</td>\n",
       "    </tr>\n",
       "    <tr>\n",
       "      <th>77</th>\n",
       "      <td>78</td>\n",
       "      <td>76</td>\n",
       "      <td>Senegal</td>\n",
       "      <td>4.681</td>\n",
       "      <td>4.790</td>\n",
       "      <td>-2</td>\n",
       "    </tr>\n",
       "    <tr>\n",
       "      <th>78</th>\n",
       "      <td>79</td>\n",
       "      <td>79</td>\n",
       "      <td>Armenia</td>\n",
       "      <td>4.559</td>\n",
       "      <td>4.714</td>\n",
       "      <td>0</td>\n",
       "    </tr>\n",
       "    <tr>\n",
       "      <th>79</th>\n",
       "      <td>80</td>\n",
       "      <td>73</td>\n",
       "      <td>South Africa</td>\n",
       "      <td>4.722</td>\n",
       "      <td>4.691</td>\n",
       "      <td>-7</td>\n",
       "    </tr>\n",
       "    <tr>\n",
       "      <th>80</th>\n",
       "      <td>81</td>\n",
       "      <td>86</td>\n",
       "      <td>Mali</td>\n",
       "      <td>4.390</td>\n",
       "      <td>4.620</td>\n",
       "      <td>5</td>\n",
       "    </tr>\n",
       "    <tr>\n",
       "      <th>81</th>\n",
       "      <td>82</td>\n",
       "      <td>81</td>\n",
       "      <td>Georgia</td>\n",
       "      <td>4.519</td>\n",
       "      <td>4.619</td>\n",
       "      <td>-1</td>\n",
       "    </tr>\n",
       "    <tr>\n",
       "      <th>82</th>\n",
       "      <td>83</td>\n",
       "      <td>82</td>\n",
       "      <td>Kenya</td>\n",
       "      <td>4.509</td>\n",
       "      <td>4.619</td>\n",
       "      <td>-1</td>\n",
       "    </tr>\n",
       "    <tr>\n",
       "      <th>83</th>\n",
       "      <td>84</td>\n",
       "      <td>88</td>\n",
       "      <td>Chad</td>\n",
       "      <td>4.350</td>\n",
       "      <td>4.618</td>\n",
       "      <td>4</td>\n",
       "    </tr>\n",
       "    <tr>\n",
       "      <th>84</th>\n",
       "      <td>85</td>\n",
       "      <td>83</td>\n",
       "      <td>Mauritania</td>\n",
       "      <td>4.490</td>\n",
       "      <td>4.541</td>\n",
       "      <td>-2</td>\n",
       "    </tr>\n",
       "    <tr>\n",
       "      <th>85</th>\n",
       "      <td>86</td>\n",
       "      <td>85</td>\n",
       "      <td>Bangladesh</td>\n",
       "      <td>4.456</td>\n",
       "      <td>4.506</td>\n",
       "      <td>-1</td>\n",
       "    </tr>\n",
       "    <tr>\n",
       "      <th>86</th>\n",
       "      <td>87</td>\n",
       "      <td>84</td>\n",
       "      <td>Tunisia</td>\n",
       "      <td>4.461</td>\n",
       "      <td>4.444</td>\n",
       "      <td>-3</td>\n",
       "    </tr>\n",
       "    <tr>\n",
       "      <th>87</th>\n",
       "      <td>88</td>\n",
       "      <td>89</td>\n",
       "      <td>Ukraine</td>\n",
       "      <td>4.332</td>\n",
       "      <td>4.436</td>\n",
       "      <td>1</td>\n",
       "    </tr>\n",
       "    <tr>\n",
       "      <th>88</th>\n",
       "      <td>89</td>\n",
       "      <td>95</td>\n",
       "      <td>Liberia</td>\n",
       "      <td>3.975</td>\n",
       "      <td>4.413</td>\n",
       "      <td>6</td>\n",
       "    </tr>\n",
       "    <tr>\n",
       "      <th>89</th>\n",
       "      <td>90</td>\n",
       "      <td>90</td>\n",
       "      <td>Ethiopia</td>\n",
       "      <td>4.286</td>\n",
       "      <td>4.359</td>\n",
       "      <td>0</td>\n",
       "    </tr>\n",
       "    <tr>\n",
       "      <th>90</th>\n",
       "      <td>91</td>\n",
       "      <td>87</td>\n",
       "      <td>Sierra Leone</td>\n",
       "      <td>4.374</td>\n",
       "      <td>4.319</td>\n",
       "      <td>-4</td>\n",
       "    </tr>\n",
       "    <tr>\n",
       "      <th>91</th>\n",
       "      <td>92</td>\n",
       "      <td>93</td>\n",
       "      <td>Togo</td>\n",
       "      <td>4.085</td>\n",
       "      <td>4.316</td>\n",
       "      <td>1</td>\n",
       "    </tr>\n",
       "    <tr>\n",
       "      <th>92</th>\n",
       "      <td>93</td>\n",
       "      <td>91</td>\n",
       "      <td>Uganda</td>\n",
       "      <td>4.189</td>\n",
       "      <td>4.235</td>\n",
       "      <td>-2</td>\n",
       "    </tr>\n",
       "    <tr>\n",
       "      <th>93</th>\n",
       "      <td>94</td>\n",
       "      <td>96</td>\n",
       "      <td>Madagascar</td>\n",
       "      <td>3.933</td>\n",
       "      <td>4.137</td>\n",
       "      <td>2</td>\n",
       "    </tr>\n",
       "    <tr>\n",
       "      <th>94</th>\n",
       "      <td>95</td>\n",
       "      <td>92</td>\n",
       "      <td>Zambia</td>\n",
       "      <td>4.107</td>\n",
       "      <td>4.003</td>\n",
       "      <td>-3</td>\n",
       "    </tr>\n",
       "    <tr>\n",
       "      <th>95</th>\n",
       "      <td>96</td>\n",
       "      <td>94</td>\n",
       "      <td>India</td>\n",
       "      <td>4.015</td>\n",
       "      <td>3.980</td>\n",
       "      <td>-2</td>\n",
       "    </tr>\n",
       "    <tr>\n",
       "      <th>96</th>\n",
       "      <td>97</td>\n",
       "      <td>98</td>\n",
       "      <td>Haiti</td>\n",
       "      <td>3.597</td>\n",
       "      <td>3.738</td>\n",
       "      <td>1</td>\n",
       "    </tr>\n",
       "    <tr>\n",
       "      <th>97</th>\n",
       "      <td>98</td>\n",
       "      <td>97</td>\n",
       "      <td>Zimbabwe</td>\n",
       "      <td>3.663</td>\n",
       "      <td>3.666</td>\n",
       "      <td>-1</td>\n",
       "    </tr>\n",
       "    <tr>\n",
       "      <th>98</th>\n",
       "      <td>99</td>\n",
       "      <td>100</td>\n",
       "      <td>Malawi</td>\n",
       "      <td>3.410</td>\n",
       "      <td>3.460</td>\n",
       "      <td>1</td>\n",
       "    </tr>\n",
       "    <tr>\n",
       "      <th>99</th>\n",
       "      <td>100</td>\n",
       "      <td>99</td>\n",
       "      <td>Botswana</td>\n",
       "      <td>3.488</td>\n",
       "      <td>3.458</td>\n",
       "      <td>-1</td>\n",
       "    </tr>\n",
       "    <tr>\n",
       "      <th>100</th>\n",
       "      <td>101</td>\n",
       "      <td>101</td>\n",
       "      <td>Tanzania</td>\n",
       "      <td>3.231</td>\n",
       "      <td>3.423</td>\n",
       "      <td>0</td>\n",
       "    </tr>\n",
       "    <tr>\n",
       "      <th>101</th>\n",
       "      <td>102</td>\n",
       "      <td>102</td>\n",
       "      <td>Afghanistan</td>\n",
       "      <td>3.203</td>\n",
       "      <td>2.733</td>\n",
       "      <td>0</td>\n",
       "    </tr>\n",
       "  </tbody>\n",
       "</table>\n",
       "<p>102 rows × 6 columns</p>\n",
       "</div>"
      ],
      "text/plain": [
       "     2019_Place  2018_Place         Country   2018   2019  Behavior\n",
       "0             1           1         Finland  7.769  7.839         0\n",
       "1             2           2         Denmark  7.600  7.596         0\n",
       "2             3           3          Norway  7.554  7.533         0\n",
       "3             4           5     Switzerland  7.480  7.506         1\n",
       "4             5           4     Netherlands  7.488  7.469        -1\n",
       "5             6           9         Austria  7.246  7.348         3\n",
       "6             7           7     New Zealand  7.307  7.322         0\n",
       "7             8           6          Sweden  7.343  7.310        -2\n",
       "8             9           8          Canada  7.278  7.286        -1\n",
       "9            10          11      Costa Rica  7.167  7.253         1\n",
       "10           11          10       Australia  7.228  7.183        -1\n",
       "11           12          12          Israel  7.139  7.170         0\n",
       "12           13          14  United Kingdom  7.054  7.144         1\n",
       "13           14          13      Luxembourg  7.090  7.137        -1\n",
       "14           15          16         Germany  6.985  7.031         1\n",
       "15           16          19  Czech Republic  6.852  6.978         3\n",
       "16           17          15         Ireland  7.021  6.976        -2\n",
       "17           18          18   United States  6.892  6.930         0\n",
       "18           19          17         Belgium  6.923  6.904        -2\n",
       "19           20          21          France  6.592  6.650         1\n",
       "20           21          23       Guatemala  6.436  6.578         2\n",
       "21           22          20          Mexico  6.595  6.547        -2\n",
       "22           23          25          Panama  6.321  6.439         2\n",
       "23           24          22           Chile  6.444  6.404        -2\n",
       "24           25          28     El Salvador  6.253  6.401         3\n",
       "25           26          24           Spain  6.354  6.367        -2\n",
       "26           27          29           Italy  6.223  6.364         2\n",
       "27           28          27         Uruguay  6.293  6.361        -1\n",
       "28           29          31       Lithuania  6.149  6.327         2\n",
       "29           30          30        Slovakia  6.198  6.310         0\n",
       "..          ...         ...             ...    ...    ...       ...\n",
       "72           73          75       Venezuela  4.707  4.980         2\n",
       "73           74          74         Albania  4.719  4.875         0\n",
       "74           75          78    Burkina Faso  4.587  4.867         3\n",
       "75           76          69           Nepal  4.913  4.867        -7\n",
       "76           77          72           Gabon  4.799  4.799        -5\n",
       "77           78          76         Senegal  4.681  4.790        -2\n",
       "78           79          79         Armenia  4.559  4.714         0\n",
       "79           80          73    South Africa  4.722  4.691        -7\n",
       "80           81          86            Mali  4.390  4.620         5\n",
       "81           82          81         Georgia  4.519  4.619        -1\n",
       "82           83          82           Kenya  4.509  4.619        -1\n",
       "83           84          88            Chad  4.350  4.618         4\n",
       "84           85          83      Mauritania  4.490  4.541        -2\n",
       "85           86          85      Bangladesh  4.456  4.506        -1\n",
       "86           87          84         Tunisia  4.461  4.444        -3\n",
       "87           88          89         Ukraine  4.332  4.436         1\n",
       "88           89          95         Liberia  3.975  4.413         6\n",
       "89           90          90        Ethiopia  4.286  4.359         0\n",
       "90           91          87    Sierra Leone  4.374  4.319        -4\n",
       "91           92          93            Togo  4.085  4.316         1\n",
       "92           93          91          Uganda  4.189  4.235        -2\n",
       "93           94          96      Madagascar  3.933  4.137         2\n",
       "94           95          92          Zambia  4.107  4.003        -3\n",
       "95           96          94           India  4.015  3.980        -2\n",
       "96           97          98           Haiti  3.597  3.738         1\n",
       "97           98          97        Zimbabwe  3.663  3.666        -1\n",
       "98           99         100          Malawi  3.410  3.460         1\n",
       "99          100          99        Botswana  3.488  3.458        -1\n",
       "100         101         101        Tanzania  3.231  3.423         0\n",
       "101         102         102     Afghanistan  3.203  2.733         0\n",
       "\n",
       "[102 rows x 6 columns]"
      ]
     },
     "execution_count": 392,
     "metadata": {},
     "output_type": "execute_result"
    }
   ],
   "source": [
    "Happy"
   ]
  },
  {
   "cell_type": "code",
   "execution_count": 377,
   "metadata": {},
   "outputs": [
    {
     "data": {
      "text/plain": [
       "-7"
      ]
     },
     "execution_count": 377,
     "metadata": {},
     "output_type": "execute_result"
    }
   ],
   "source": [
    "Happy.Behavior.min()"
   ]
  },
  {
   "cell_type": "code",
   "execution_count": 380,
   "metadata": {},
   "outputs": [
    {
     "data": {
      "text/html": [
       "<div>\n",
       "<style scoped>\n",
       "    .dataframe tbody tr th:only-of-type {\n",
       "        vertical-align: middle;\n",
       "    }\n",
       "\n",
       "    .dataframe tbody tr th {\n",
       "        vertical-align: top;\n",
       "    }\n",
       "\n",
       "    .dataframe thead th {\n",
       "        text-align: right;\n",
       "    }\n",
       "</style>\n",
       "<table border=\"1\" class=\"dataframe\">\n",
       "  <thead>\n",
       "    <tr style=\"text-align: right;\">\n",
       "      <th></th>\n",
       "      <th>2019_Place</th>\n",
       "      <th>2018_Place</th>\n",
       "      <th>Country</th>\n",
       "      <th>2018</th>\n",
       "      <th>2019</th>\n",
       "      <th>Behavior</th>\n",
       "    </tr>\n",
       "  </thead>\n",
       "  <tbody>\n",
       "    <tr>\n",
       "      <th>41</th>\n",
       "      <td>42</td>\n",
       "      <td>35</td>\n",
       "      <td>Argentina</td>\n",
       "      <td>6.086</td>\n",
       "      <td>5.947</td>\n",
       "      <td>-7</td>\n",
       "    </tr>\n",
       "    <tr>\n",
       "      <th>75</th>\n",
       "      <td>76</td>\n",
       "      <td>69</td>\n",
       "      <td>Nepal</td>\n",
       "      <td>4.913</td>\n",
       "      <td>4.867</td>\n",
       "      <td>-7</td>\n",
       "    </tr>\n",
       "    <tr>\n",
       "      <th>79</th>\n",
       "      <td>80</td>\n",
       "      <td>73</td>\n",
       "      <td>South Africa</td>\n",
       "      <td>4.722</td>\n",
       "      <td>4.691</td>\n",
       "      <td>-7</td>\n",
       "    </tr>\n",
       "  </tbody>\n",
       "</table>\n",
       "</div>"
      ],
      "text/plain": [
       "    2019_Place  2018_Place       Country   2018   2019  Behavior\n",
       "41          42          35     Argentina  6.086  5.947        -7\n",
       "75          76          69         Nepal  4.913  4.867        -7\n",
       "79          80          73  South Africa  4.722  4.691        -7"
      ]
     },
     "execution_count": 380,
     "metadata": {},
     "output_type": "execute_result"
    }
   ],
   "source": [
    "Happy.loc[(Happy['Behavior'] == -7)]"
   ]
  },
  {
   "cell_type": "code",
   "execution_count": 379,
   "metadata": {},
   "outputs": [
    {
     "data": {
      "text/html": [
       "<div>\n",
       "<style scoped>\n",
       "    .dataframe tbody tr th:only-of-type {\n",
       "        vertical-align: middle;\n",
       "    }\n",
       "\n",
       "    .dataframe tbody tr th {\n",
       "        vertical-align: top;\n",
       "    }\n",
       "\n",
       "    .dataframe thead th {\n",
       "        text-align: right;\n",
       "    }\n",
       "</style>\n",
       "<table border=\"1\" class=\"dataframe\">\n",
       "  <thead>\n",
       "    <tr style=\"text-align: right;\">\n",
       "      <th></th>\n",
       "      <th>2019_Place</th>\n",
       "      <th>2018_Place</th>\n",
       "      <th>Country</th>\n",
       "      <th>2018</th>\n",
       "      <th>2019</th>\n",
       "      <th>Behavior</th>\n",
       "    </tr>\n",
       "  </thead>\n",
       "  <tbody>\n",
       "    <tr>\n",
       "      <th>53</th>\n",
       "      <td>54</td>\n",
       "      <td>70</td>\n",
       "      <td>Benin</td>\n",
       "      <td>4.883</td>\n",
       "      <td>5.537</td>\n",
       "      <td>16</td>\n",
       "    </tr>\n",
       "  </tbody>\n",
       "</table>\n",
       "</div>"
      ],
      "text/plain": [
       "    2019_Place  2018_Place Country   2018   2019  Behavior\n",
       "53          54          70   Benin  4.883  5.537        16"
      ]
     },
     "execution_count": 379,
     "metadata": {},
     "output_type": "execute_result"
    }
   ],
   "source": [
    "Happy.loc[(Happy['Behavior'] == 16)]"
   ]
  },
  {
   "cell_type": "code",
   "execution_count": 376,
   "metadata": {
    "scrolled": true
   },
   "outputs": [
    {
     "data": {
      "text/plain": [
       "16"
      ]
     },
     "execution_count": 376,
     "metadata": {},
     "output_type": "execute_result"
    }
   ],
   "source": [
    "Happy.Behavior.max()"
   ]
  },
  {
   "cell_type": "code",
   "execution_count": 374,
   "metadata": {},
   "outputs": [
    {
     "data": {
      "text/html": [
       "<div>\n",
       "<style scoped>\n",
       "    .dataframe tbody tr th:only-of-type {\n",
       "        vertical-align: middle;\n",
       "    }\n",
       "\n",
       "    .dataframe tbody tr th {\n",
       "        vertical-align: top;\n",
       "    }\n",
       "\n",
       "    .dataframe thead th {\n",
       "        text-align: right;\n",
       "    }\n",
       "</style>\n",
       "<table border=\"1\" class=\"dataframe\">\n",
       "  <thead>\n",
       "    <tr style=\"text-align: right;\">\n",
       "      <th></th>\n",
       "      <th>2019 Ranking</th>\n",
       "      <th>Country</th>\n",
       "      <th>2018_Score</th>\n",
       "      <th>2019_Pred</th>\n",
       "      <th>Behavior</th>\n",
       "    </tr>\n",
       "  </thead>\n",
       "  <tbody>\n",
       "    <tr>\n",
       "      <th>79</th>\n",
       "      <td>80</td>\n",
       "      <td>South Africa</td>\n",
       "      <td>4.722</td>\n",
       "      <td>4.691</td>\n",
       "      <td>-7</td>\n",
       "    </tr>\n",
       "    <tr>\n",
       "      <th>80</th>\n",
       "      <td>81</td>\n",
       "      <td>Mali</td>\n",
       "      <td>4.390</td>\n",
       "      <td>4.620</td>\n",
       "      <td>5</td>\n",
       "    </tr>\n",
       "    <tr>\n",
       "      <th>81</th>\n",
       "      <td>82</td>\n",
       "      <td>Georgia</td>\n",
       "      <td>4.519</td>\n",
       "      <td>4.619</td>\n",
       "      <td>-1</td>\n",
       "    </tr>\n",
       "    <tr>\n",
       "      <th>82</th>\n",
       "      <td>83</td>\n",
       "      <td>Kenya</td>\n",
       "      <td>4.509</td>\n",
       "      <td>4.619</td>\n",
       "      <td>-1</td>\n",
       "    </tr>\n",
       "    <tr>\n",
       "      <th>83</th>\n",
       "      <td>84</td>\n",
       "      <td>Chad</td>\n",
       "      <td>4.350</td>\n",
       "      <td>4.618</td>\n",
       "      <td>4</td>\n",
       "    </tr>\n",
       "    <tr>\n",
       "      <th>84</th>\n",
       "      <td>85</td>\n",
       "      <td>Mauritania</td>\n",
       "      <td>4.490</td>\n",
       "      <td>4.541</td>\n",
       "      <td>-2</td>\n",
       "    </tr>\n",
       "    <tr>\n",
       "      <th>85</th>\n",
       "      <td>86</td>\n",
       "      <td>Bangladesh</td>\n",
       "      <td>4.456</td>\n",
       "      <td>4.506</td>\n",
       "      <td>-1</td>\n",
       "    </tr>\n",
       "    <tr>\n",
       "      <th>86</th>\n",
       "      <td>87</td>\n",
       "      <td>Tunisia</td>\n",
       "      <td>4.461</td>\n",
       "      <td>4.444</td>\n",
       "      <td>-3</td>\n",
       "    </tr>\n",
       "    <tr>\n",
       "      <th>87</th>\n",
       "      <td>88</td>\n",
       "      <td>Ukraine</td>\n",
       "      <td>4.332</td>\n",
       "      <td>4.436</td>\n",
       "      <td>1</td>\n",
       "    </tr>\n",
       "    <tr>\n",
       "      <th>88</th>\n",
       "      <td>89</td>\n",
       "      <td>Liberia</td>\n",
       "      <td>3.975</td>\n",
       "      <td>4.413</td>\n",
       "      <td>6</td>\n",
       "    </tr>\n",
       "    <tr>\n",
       "      <th>89</th>\n",
       "      <td>90</td>\n",
       "      <td>Ethiopia</td>\n",
       "      <td>4.286</td>\n",
       "      <td>4.359</td>\n",
       "      <td>0</td>\n",
       "    </tr>\n",
       "    <tr>\n",
       "      <th>90</th>\n",
       "      <td>91</td>\n",
       "      <td>Sierra Leone</td>\n",
       "      <td>4.374</td>\n",
       "      <td>4.319</td>\n",
       "      <td>-4</td>\n",
       "    </tr>\n",
       "    <tr>\n",
       "      <th>91</th>\n",
       "      <td>92</td>\n",
       "      <td>Togo</td>\n",
       "      <td>4.085</td>\n",
       "      <td>4.316</td>\n",
       "      <td>1</td>\n",
       "    </tr>\n",
       "    <tr>\n",
       "      <th>92</th>\n",
       "      <td>93</td>\n",
       "      <td>Uganda</td>\n",
       "      <td>4.189</td>\n",
       "      <td>4.235</td>\n",
       "      <td>-2</td>\n",
       "    </tr>\n",
       "    <tr>\n",
       "      <th>93</th>\n",
       "      <td>94</td>\n",
       "      <td>Madagascar</td>\n",
       "      <td>3.933</td>\n",
       "      <td>4.137</td>\n",
       "      <td>2</td>\n",
       "    </tr>\n",
       "    <tr>\n",
       "      <th>94</th>\n",
       "      <td>95</td>\n",
       "      <td>Zambia</td>\n",
       "      <td>4.107</td>\n",
       "      <td>4.003</td>\n",
       "      <td>-3</td>\n",
       "    </tr>\n",
       "    <tr>\n",
       "      <th>95</th>\n",
       "      <td>96</td>\n",
       "      <td>India</td>\n",
       "      <td>4.015</td>\n",
       "      <td>3.980</td>\n",
       "      <td>-2</td>\n",
       "    </tr>\n",
       "    <tr>\n",
       "      <th>96</th>\n",
       "      <td>97</td>\n",
       "      <td>Haiti</td>\n",
       "      <td>3.597</td>\n",
       "      <td>3.738</td>\n",
       "      <td>1</td>\n",
       "    </tr>\n",
       "    <tr>\n",
       "      <th>97</th>\n",
       "      <td>98</td>\n",
       "      <td>Zimbabwe</td>\n",
       "      <td>3.663</td>\n",
       "      <td>3.666</td>\n",
       "      <td>-1</td>\n",
       "    </tr>\n",
       "    <tr>\n",
       "      <th>98</th>\n",
       "      <td>99</td>\n",
       "      <td>Malawi</td>\n",
       "      <td>3.410</td>\n",
       "      <td>3.460</td>\n",
       "      <td>1</td>\n",
       "    </tr>\n",
       "    <tr>\n",
       "      <th>99</th>\n",
       "      <td>100</td>\n",
       "      <td>Botswana</td>\n",
       "      <td>3.488</td>\n",
       "      <td>3.458</td>\n",
       "      <td>-1</td>\n",
       "    </tr>\n",
       "    <tr>\n",
       "      <th>100</th>\n",
       "      <td>101</td>\n",
       "      <td>Tanzania</td>\n",
       "      <td>3.231</td>\n",
       "      <td>3.423</td>\n",
       "      <td>0</td>\n",
       "    </tr>\n",
       "    <tr>\n",
       "      <th>101</th>\n",
       "      <td>102</td>\n",
       "      <td>Afghanistan</td>\n",
       "      <td>3.203</td>\n",
       "      <td>2.733</td>\n",
       "      <td>0</td>\n",
       "    </tr>\n",
       "  </tbody>\n",
       "</table>\n",
       "</div>"
      ],
      "text/plain": [
       "     2019 Ranking       Country  2018_Score  2019_Pred  Behavior\n",
       "79             80  South Africa       4.722      4.691        -7\n",
       "80             81          Mali       4.390      4.620         5\n",
       "81             82       Georgia       4.519      4.619        -1\n",
       "82             83         Kenya       4.509      4.619        -1\n",
       "83             84          Chad       4.350      4.618         4\n",
       "84             85    Mauritania       4.490      4.541        -2\n",
       "85             86    Bangladesh       4.456      4.506        -1\n",
       "86             87       Tunisia       4.461      4.444        -3\n",
       "87             88       Ukraine       4.332      4.436         1\n",
       "88             89       Liberia       3.975      4.413         6\n",
       "89             90      Ethiopia       4.286      4.359         0\n",
       "90             91  Sierra Leone       4.374      4.319        -4\n",
       "91             92          Togo       4.085      4.316         1\n",
       "92             93        Uganda       4.189      4.235        -2\n",
       "93             94    Madagascar       3.933      4.137         2\n",
       "94             95        Zambia       4.107      4.003        -3\n",
       "95             96         India       4.015      3.980        -2\n",
       "96             97         Haiti       3.597      3.738         1\n",
       "97             98      Zimbabwe       3.663      3.666        -1\n",
       "98             99        Malawi       3.410      3.460         1\n",
       "99            100      Botswana       3.488      3.458        -1\n",
       "100           101      Tanzania       3.231      3.423         0\n",
       "101           102   Afghanistan       3.203      2.733         0"
      ]
     },
     "execution_count": 374,
     "metadata": {},
     "output_type": "execute_result"
    }
   ],
   "source": [
    "box = Happy[['2019_Place','Country','2018','2019','Behavior']].\\\n",
    "        rename(columns={'2019_Place':'2019 Ranking',\n",
    "                        '2018':'2018_Score',\n",
    "                       '2019':'2019_Pred'})\n",
    "box.tail(23)"
   ]
  },
  {
   "cell_type": "code",
   "execution_count": 361,
   "metadata": {},
   "outputs": [],
   "source": [
    "box.to_csv(\"Prediction\", encoding=\"utf-8\", index=False, header=True)\n"
   ]
  },
  {
   "cell_type": "code",
   "execution_count": null,
   "metadata": {},
   "outputs": [],
   "source": []
  }
 ],
 "metadata": {
  "kernelspec": {
   "display_name": "Python 3",
   "language": "python",
   "name": "python3"
  },
  "language_info": {
   "codemirror_mode": {
    "name": "ipython",
    "version": 3
   },
   "file_extension": ".py",
   "mimetype": "text/x-python",
   "name": "python",
   "nbconvert_exporter": "python",
   "pygments_lexer": "ipython3",
   "version": "3.7.1"
  }
 },
 "nbformat": 4,
 "nbformat_minor": 2
}
